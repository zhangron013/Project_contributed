{
 "cells": [
  {
   "cell_type": "code",
   "execution_count": 17,
   "metadata": {},
   "outputs": [
    {
     "name": "stdout",
     "output_type": "stream",
     "text": [
      "['模板填报说明', '模板', '数据字典', '示例']\n",
      "<Worksheet \"模板\">\n",
      "投资者类型\n",
      "组织形式\n",
      "投资者控股性质\n",
      "投资者名称\n",
      "政府出资产业投资基金行政级别\n",
      "有效证件类型\n",
      "其他证件类型\n",
      "有效证件号码\n",
      "合伙人类型\n",
      "是否为执行事务合伙人\n"
     ]
    }
   ],
   "source": [
    "import os\n",
    "import openpyxl\n",
    "\n",
    "workbook = openpyxl.load_workbook('./test2.xlsx')\t# 返回一个workbook数据类型的值\n",
    "print(workbook.sheetnames)\t# 打印Excel表中的所有表\n",
    "sheet = workbook['模板']  # 获取指定sheet表\n",
    "print(sheet)\n",
    "for i in sheet.iter_rows(min_row=1, max_row=1, min_col=1, max_col=10):\n",
    "    for j in i:\n",
    "        print(j.value)\n",
    "data = [\n",
    "    [\"测试1\", \"测试2\", \"测试3\", \"测试4\", \"测试5\", \"测试6\", \"测试7\", \"测试8\", \"测试9\", \"测试10\",\"测试11\", \"测试12\", \"测试13\", \"测试14\", \"测试15\"],\n",
    "    [\"测试16\", \"测试17\", \"测试18\", \"测试19\", \"测试20\",\"测试21\", \"测试22\", \"测试23\", \"测试24\", \"测试25\", \"测试26\", \"测试27\", \"测试28\", \"测试29\", \"测试30\"],\n",
    "    [\"测试31\", \"测试32\", \"测试33\", \"测试34\", \"测试35\",\"测试36\", \"测试37\", \"测试38\", \"测试39\", \"测试40\", \"测试41\", \"测试42\", \"测试43\", \"测试44\", \"测试45\"],\n",
    "]\n",
    "workbook1 = openpyxl.load_workbook('./test.xlsx')\t# 返回一个workbook数据类型的值\n",
    "sheet1 = workbook['模板']  # 获取指定sheet表\n",
    "for row in data:\n",
    "    sheet.append(row)  \n",
    "workbook.save('test.xlsx')\t# 保存Excel表\n",
    "workbook.close()\n",
    "\n"
   ]
  },
  {
   "cell_type": "code",
   "execution_count": 55,
   "metadata": {},
   "outputs": [
    {
     "name": "stdout",
     "output_type": "stream",
     "text": [
      "[('测试1', '测试2', '测试3', '测试4', '测试5', '测试6', '测试7', '测试8', '测试9', '测试10', '测试11', '测试12', '测试13', '测试14', '测试15'), ('测试16', '测试17', '测试18', '测试19', '测试20', '测试21', '测试22', '测试23', '测试24', '测试25', '测试26', '测试27', '测试28', '测试29', '测试30'), ('测试31', '测试32', '测试33', '测试34', '测试35', '测试36', '测试37', '测试38', '测试39', '测试40', '测试41', '测试42', '测试43', '测试44', '测试45')]\n",
      "7\n"
     ]
    }
   ],
   "source": [
    "import openpyxl\n",
    "\n",
    "def read_data_from_excel(file_path, sheet_name):\n",
    "    workbook = openpyxl.load_workbook(file_path)\n",
    "    sheet = workbook[sheet_name]\n",
    "\n",
    "    data_array = []\n",
    "    for row in sheet.iter_rows(min_row=2, values_only=True):  # Assuming data starts from row 2\n",
    "        if any(cell is not None for cell in row):\n",
    "            data_array.append(row)\n",
    "    workbook.close()\n",
    "    return data_array\n",
    "\n",
    "def write_data_to_excel(data_array, output_file, sheet_name):\n",
    "    workbook = openpyxl.load_workbook(output_file)\n",
    "    sheet = workbook[sheet_name]\n",
    "    print(sheet.max_row)\n",
    "\n",
    "    # Writing data\n",
    "    for row_data in data_array:\n",
    "        sheet.append(row_data)\n",
    "\n",
    "    workbook.save(output_file)\n",
    "\n",
    "def main():\n",
    "    # 读取第一个 Excel 文件中 Sheet2 的数据\n",
    "    input_file = './test.xlsx'\n",
    "    input_sheet = '模板'\n",
    "    data_array = read_data_from_excel(input_file, input_sheet)\n",
    "    print(data_array)\n",
    "    # 将数据写入第二个 Excel 文件中 Sheet2，保留表头\n",
    "    output_file = './test2.xlsx'\n",
    "    output_sheet = '模板'\n",
    "    write_data_to_excel(data_array, output_file, output_sheet)\n",
    "\n",
    "if __name__ == \"__main__\":\n",
    "    main()\n"
   ]
  },
  {
   "cell_type": "code",
   "execution_count": 52,
   "metadata": {},
   "outputs": [
    {
     "name": "stdout",
     "output_type": "stream",
     "text": [
      "(<Cell '模板'.A1>, <Cell '模板'.B1>, <Cell '模板'.C1>, <Cell '模板'.D1>, <Cell '模板'.E1>, <Cell '模板'.F1>, <Cell '模板'.G1>, <Cell '模板'.H1>, <Cell '模板'.I1>, <Cell '模板'.J1>, <Cell '模板'.K1>, <Cell '模板'.L1>, <Cell '模板'.M1>, <Cell '模板'.N1>, <Cell '模板'.O1>)\n",
      "1\n",
      "15\n"
     ]
    }
   ],
   "source": [
    "output_file = './test2.xlsx'\n",
    "sheet_name = '模板'\n",
    "row_number = 100\n",
    "workbook = openpyxl.load_workbook(output_file)\n",
    "sheet = workbook[sheet_name]\n",
    "for row in sheet.rows:\n",
    "    print(row)\n",
    "    # for cell in row:\n",
    "    #     print(cell.value)\n",
    "# row_data = [cell.value for cell in sheet[row_number]]\n",
    "# print(row_data)\n",
    "# for i in sheet.iter_rows(min_row=1, max_row=1):\n",
    "#     for j in i:\n",
    "#         print(j.value)\n",
    "print(sheet.max_row)\n",
    "print(sheet.max_column)"
   ]
  },
  {
   "cell_type": "code",
   "execution_count": 56,
   "metadata": {},
   "outputs": [],
   "source": [
    "import csv\n",
    "def init(self):\n",
    "    with open(f'{self.query}.csv', 'a', newline='', encoding='utf_8_sig') as f:\n",
    "        writer = csv.writer(f)\n",
    "        writer.writerow(['视频标题', '视频链接', '博主名称', '博主链接', '国家', 'telegram链接', 'whatsapp链接', 'twitter链接', 'facebook链接', 'instagram链接'])\n"
   ]
  },
  {
   "cell_type": "code",
   "execution_count": 57,
   "metadata": {},
   "outputs": [
    {
     "name": "stdout",
     "output_type": "stream",
     "text": [
      "Copied: .DS_Store to ./mask3/\n",
      "Copied: 4.jpg to ./mask3/\n",
      "Copied: 5.jpg to ./mask3/\n",
      "Copied: 1.jpg to ./mask3/\n",
      "Copied: 3.jpg to ./mask3/\n",
      "Copied: 6.jpg to ./mask3/\n",
      "Copied: 2.jpg to ./mask3/\n"
     ]
    }
   ],
   "source": [
    "import os\n",
    "import shutil\n",
    "import tqdm\n",
    "# 定义源文件夹和目标文件夹的路径\n",
    "source_folder = './input/'\n",
    "target_folder = './mask3/'\n",
    "\n",
    "# 创建目标文件夹\n",
    "# os.makedirs(target_folder, exist_ok=True)\n",
    "\n",
    "# # 获取源文件夹中所有文件的文件名列表\n",
    "# all_files = os.listdir(source_folder)\n",
    "# # 遍历文件列表，找到文件名包含\"mask\"的文件并拷贝到目标文件夹\n",
    "# for file_name in tqdm.tqdm(all_files):\n",
    "#     if \"mask\" in file_name:\n",
    "#         source_path = os.path.join(source_folder, file_name)\n",
    "#         target_path = os.path.join(target_folder, file_name)\n",
    "#         shutil.copyfile(source_path, target_path)\n",
    "#         print(f'Copied: {file_name} to {target_folder}')\n",
    "import os\n",
    "import shutil\n",
    "\n",
    "def copy_files_with_mask(source_folder, target_folder):\n",
    "    # 创建目标文件夹\n",
    "    os.makedirs(target_folder, exist_ok=True)\n",
    "\n",
    "    # 遍历源文件夹及其子文件夹\n",
    "    for root, dirs, files in os.walk(source_folder):\n",
    "        for file_name in files:\n",
    "            # if \"mask\" in file_name:\n",
    "            source_path = os.path.join(root, file_name)\n",
    "            target_path = os.path.join(target_folder, file_name)\n",
    "            shutil.copyfile(source_path, target_path)\n",
    "            print(f'Copied: {file_name} to {target_folder}')\n",
    "\n",
    "\n",
    "copy_files_with_mask(source_folder, target_folder)\n"
   ]
  },
  {
   "cell_type": "code",
   "execution_count": 63,
   "metadata": {},
   "outputs": [
    {
     "name": "stdout",
     "output_type": "stream",
     "text": [
      ".DS_Store\n",
      "4.jpg\n",
      "5.jpg\n",
      "6.jpg\n",
      "2.jpg\n",
      "2.jpg exists in both folders.\n",
      "3.jpg\n",
      "1.jpg\n",
      "1.jpg exists in both folders.\n"
     ]
    }
   ],
   "source": [
    "import os\n",
    "\n",
    "def check_matching_files(folder1, folder2):\n",
    "    # 获取文件夹2中所有文件的文件名\n",
    "    files_in_folder2 = set(os.listdir(folder2))\n",
    "\n",
    "    # 遍历文件夹1中的文件\n",
    "    for file_name in os.listdir(folder1):\n",
    "        print(file_name)\n",
    "        real_name = file_name.split('.jpg')[0]\n",
    "        mask_name = real_name + '_mask.jpg'\n",
    "        if mask_name in files_in_folder2:\n",
    "            file_path = os.path.join(folder1, file_name)\n",
    "            os.remove(file_path)\n",
    "            print(f'{file_name} exists in both folders.')\n",
    "\n",
    "# 替换这里的路径为你的实际路径\n",
    "folder1_path = './mask3'\n",
    "folder2_path = './mask'\n",
    "\n",
    "check_matching_files(folder1_path, folder2_path)\n"
   ]
  }
 ],
 "metadata": {
  "kernelspec": {
   "display_name": "zhang",
   "language": "python",
   "name": "python3"
  },
  "language_info": {
   "codemirror_mode": {
    "name": "ipython",
    "version": 3
   },
   "file_extension": ".py",
   "mimetype": "text/x-python",
   "name": "python",
   "nbconvert_exporter": "python",
   "pygments_lexer": "ipython3",
   "version": "3.9.16"
  }
 },
 "nbformat": 4,
 "nbformat_minor": 2
}
