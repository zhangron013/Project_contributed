{
 "cells": [
  {
   "cell_type": "code",
   "execution_count": 19,
   "metadata": {},
   "outputs": [],
   "source": [
    "import torch\n",
    "import torch.nn as nn\n",
    "import torch.optim as optim\n",
    "import numpy as np\n",
    "from torch.utils.data import Dataset, DataLoader\n",
    "from sklearn.model_selection import train_test_split\n",
    "import pandas as pd\n",
    "from tqdm import tqdm\n",
    "import matplotlib.pyplot as plt\n"
   ]
  },
  {
   "cell_type": "code",
   "execution_count": 20,
   "metadata": {},
   "outputs": [],
   "source": [
    "# 定义CNN模型\n",
    "class CNN(nn.Module):\n",
    "    def __init__(self):\n",
    "        super(CNN, self).__init__()\n",
    "        self.conv1 = nn.Conv1d(1, 16, kernel_size=3, stride=1)# 输入通道数为1，输出通道数为16，卷积核大小为3\n",
    "        self.pool = nn.MaxPool1d(kernel_size=2, stride=2)# 池化层\n",
    "        self.conv2 = nn.Conv1d(16, 32, kernel_size=3, stride=1)# 输入通道数为16，输出通道数为32，卷积核大小为3\n",
    "        self.conv3 = nn.Conv1d(32, 64, kernel_size=3, stride=1)# 输入通道数为32，输出通道数为64，卷积核大小为3\n",
    "        self.fc1 = nn.Linear(64 * 3, 128)# 全连接层\n",
    "        self.fc2 = nn.Linear(128, 1)# 二分类问题，输出为1 \n",
    "\n",
    "    def forward(self, x):\n",
    "        x = self.conv1(x)\n",
    "        x = self.relu(x)\n",
    "        x = self.pool(x)\n",
    "        x= self.conv2(x)\n",
    "        x = self.relu(x)\n",
    "        x = self.pool(x)\n",
    "        x = self.conv3(x)\n",
    "        x = self.relu(x)\n",
    "        x = self.pool(x)\n",
    "        x = x.view(x.size(0), -1)\n",
    "        x = self.fc1(x)\n",
    "        x = self.relu(x)\n",
    "        x = self.fc2(x)\n",
    "        return x"
   ]
  },
  {
   "cell_type": "code",
   "execution_count": 21,
   "metadata": {},
   "outputs": [],
   "source": [
    "# 自定义数据集类\n",
    "class BikeDataset(Dataset):\n",
    "    def __init__(self, data, labels):\n",
    "        self.data = data\n",
    "        self.labels = labels\n",
    "\n",
    "    def __getitem__(self, index):\n",
    "        x = self.data[index]\n",
    "        y = self.labels[index]\n",
    "        return x, y\n",
    "\n",
    "    def __len__(self):\n",
    "        return len(self.data)"
   ]
  },
  {
   "cell_type": "code",
   "execution_count": 22,
   "metadata": {},
   "outputs": [],
   "source": [
    "\n",
    "# 准备训练数据和标签\n",
    "df = pd.read_csv('./1234.csv')\n",
    "\n",
    "df[\"timestamp\"] = pd.to_datetime(df[\"timestamp\"])\n",
    "df = df.set_index(\"timestamp\")\n",
    "df[\"minute\"] = df.index.minute\n",
    "df[\"hour\"] = df.index.hour\n",
    "df[\"day_of_month\"] = df.index.day\n",
    "df[\"day_of_week\"]  = df.index.dayofweek\n",
    "df[\"month\"] = df.index.month\n",
    "# df[\"year\"] = df.index.year\n",
    "# 将加载的csv文件按9:1的比例分为训练集和测试集\n",
    "features = df[['day_of_week', 'month', 'day_of_month', 'hour', 'minute', 'weather', 'tem', 'holiday']].values\n",
    "labels = df[['cnt']].values\n",
    "df = df.dropna()\n",
    "df = df.drop_duplicates()\n",
    "df = df.sample(frac=1)\n",
    "df.head()\n",
    "train_features, val_features, train_labels, val_labels = train_test_split(features, labels, test_size=0.1, random_state=42)\n",
    "train_features = torch.from_numpy(train_features).float()\n",
    "train_labels = torch.from_numpy(train_labels).float()\n",
    "val_features = torch.from_numpy(val_features).float()\n",
    "val_labels = torch.from_numpy(val_labels).float()\n",
    "\n",
    "train_dataset = BikeDataset(train_features, train_labels)\n",
    "val_dataset = BikeDataset(val_features, val_labels)\n",
    "train_loader = DataLoader(train_dataset, batch_size=32, shuffle=True)\n",
    "val_loader = DataLoader(val_dataset, batch_size=32)\n",
    "\n"
   ]
  },
  {
   "cell_type": "code",
   "execution_count": 23,
   "metadata": {},
   "outputs": [],
   "source": [
    "model = CNN()\n",
    "\n",
    "# 定义损失函数和优化器\n",
    "criterion = nn.MSELoss()\n",
    "optimizer = optim.Adam(model.parameters(), lr=0.001)"
   ]
  },
  {
   "cell_type": "code",
   "execution_count": 24,
   "metadata": {},
   "outputs": [
    {
     "name": "stderr",
     "output_type": "stream",
     "text": [
      "                                                                                                                 \r"
     ]
    },
    {
     "name": "stdout",
     "output_type": "stream",
     "text": [
      "Epoch 1/400:\n",
      "Training Loss: 11514.8897\n",
      "Validation Loss: 9840.3149\n",
      "Validation Accuracy: 0.00%\n",
      "-------------------------\n"
     ]
    },
    {
     "name": "stderr",
     "output_type": "stream",
     "text": [
      "                                                                                                                 \r"
     ]
    },
    {
     "name": "stdout",
     "output_type": "stream",
     "text": [
      "Epoch 2/400:\n",
      "Training Loss: 9994.2591\n",
      "Validation Loss: 9364.9210\n",
      "Validation Accuracy: 0.39%\n",
      "-------------------------\n"
     ]
    },
    {
     "name": "stderr",
     "output_type": "stream",
     "text": [
      "                                                                                                                 \r"
     ]
    },
    {
     "name": "stdout",
     "output_type": "stream",
     "text": [
      "Epoch 3/400:\n",
      "Training Loss: 9524.4715\n",
      "Validation Loss: 9207.2025\n",
      "Validation Accuracy: 0.55%\n",
      "-------------------------\n"
     ]
    },
    {
     "name": "stderr",
     "output_type": "stream",
     "text": [
      "                                                                                                                 \r"
     ]
    },
    {
     "name": "stdout",
     "output_type": "stream",
     "text": [
      "Epoch 4/400:\n",
      "Training Loss: 9226.8892\n",
      "Validation Loss: 8916.8462\n",
      "Validation Accuracy: 0.47%\n",
      "-------------------------\n"
     ]
    },
    {
     "name": "stderr",
     "output_type": "stream",
     "text": [
      "                                                                                                                 \r"
     ]
    },
    {
     "name": "stdout",
     "output_type": "stream",
     "text": [
      "Epoch 5/400:\n",
      "Training Loss: 8857.5540\n",
      "Validation Loss: 8554.2068\n",
      "Validation Accuracy: 0.39%\n",
      "-------------------------\n"
     ]
    },
    {
     "name": "stderr",
     "output_type": "stream",
     "text": [
      "                                                                                                                 \r"
     ]
    },
    {
     "name": "stdout",
     "output_type": "stream",
     "text": [
      "Epoch 6/400:\n",
      "Training Loss: 8572.6449\n",
      "Validation Loss: 8409.0187\n",
      "Validation Accuracy: 0.86%\n",
      "-------------------------\n"
     ]
    },
    {
     "name": "stderr",
     "output_type": "stream",
     "text": [
      "                                                                                                                 \r"
     ]
    },
    {
     "name": "stdout",
     "output_type": "stream",
     "text": [
      "Epoch 7/400:\n",
      "Training Loss: 8419.2460\n",
      "Validation Loss: 8349.7165\n",
      "Validation Accuracy: 0.31%\n",
      "-------------------------\n"
     ]
    },
    {
     "name": "stderr",
     "output_type": "stream",
     "text": [
      "                                                                                                                 \r"
     ]
    },
    {
     "name": "stdout",
     "output_type": "stream",
     "text": [
      "Epoch 8/400:\n",
      "Training Loss: 8337.3303\n",
      "Validation Loss: 8236.1396\n",
      "Validation Accuracy: 0.70%\n",
      "-------------------------\n"
     ]
    },
    {
     "name": "stderr",
     "output_type": "stream",
     "text": [
      "                                                                                                                 \r"
     ]
    },
    {
     "name": "stdout",
     "output_type": "stream",
     "text": [
      "Epoch 9/400:\n",
      "Training Loss: 8242.3217\n",
      "Validation Loss: 8147.3491\n",
      "Validation Accuracy: 0.86%\n",
      "-------------------------\n"
     ]
    },
    {
     "name": "stderr",
     "output_type": "stream",
     "text": [
      "                                                                                                                  \r"
     ]
    },
    {
     "name": "stdout",
     "output_type": "stream",
     "text": [
      "Epoch 10/400:\n",
      "Training Loss: 8165.2199\n",
      "Validation Loss: 8127.4463\n",
      "Validation Accuracy: 0.86%\n",
      "-------------------------\n"
     ]
    },
    {
     "name": "stderr",
     "output_type": "stream",
     "text": [
      "                                                                                                                  \r"
     ]
    },
    {
     "name": "stdout",
     "output_type": "stream",
     "text": [
      "Epoch 11/400:\n",
      "Training Loss: 8076.2712\n",
      "Validation Loss: 7972.2585\n",
      "Validation Accuracy: 0.70%\n",
      "-------------------------\n"
     ]
    },
    {
     "name": "stderr",
     "output_type": "stream",
     "text": [
      "                                                                                                                  \r"
     ]
    },
    {
     "name": "stdout",
     "output_type": "stream",
     "text": [
      "Epoch 12/400:\n",
      "Training Loss: 7993.4167\n",
      "Validation Loss: 7871.8334\n",
      "Validation Accuracy: 0.70%\n",
      "-------------------------\n"
     ]
    },
    {
     "name": "stderr",
     "output_type": "stream",
     "text": [
      "                                                                                                                  \r"
     ]
    },
    {
     "name": "stdout",
     "output_type": "stream",
     "text": [
      "Epoch 13/400:\n",
      "Training Loss: 7907.2510\n",
      "Validation Loss: 7855.3402\n",
      "Validation Accuracy: 0.86%\n",
      "-------------------------\n"
     ]
    },
    {
     "name": "stderr",
     "output_type": "stream",
     "text": [
      "                                                                                                                  \r"
     ]
    },
    {
     "name": "stdout",
     "output_type": "stream",
     "text": [
      "Epoch 14/400:\n",
      "Training Loss: 7832.2448\n",
      "Validation Loss: 7829.3838\n",
      "Validation Accuracy: 0.70%\n",
      "-------------------------\n"
     ]
    },
    {
     "name": "stderr",
     "output_type": "stream",
     "text": [
      "                                                                                                                  \r"
     ]
    },
    {
     "name": "stdout",
     "output_type": "stream",
     "text": [
      "Epoch 15/400:\n",
      "Training Loss: 7785.3461\n",
      "Validation Loss: 7646.4101\n",
      "Validation Accuracy: 1.01%\n",
      "-------------------------\n"
     ]
    },
    {
     "name": "stderr",
     "output_type": "stream",
     "text": [
      "                                                                                                                  \r"
     ]
    },
    {
     "name": "stdout",
     "output_type": "stream",
     "text": [
      "Epoch 16/400:\n",
      "Training Loss: 7684.1758\n",
      "Validation Loss: 7626.5573\n",
      "Validation Accuracy: 0.86%\n",
      "-------------------------\n"
     ]
    },
    {
     "name": "stderr",
     "output_type": "stream",
     "text": [
      "                                                                                                                  \r"
     ]
    },
    {
     "name": "stdout",
     "output_type": "stream",
     "text": [
      "Epoch 17/400:\n",
      "Training Loss: 7614.3333\n",
      "Validation Loss: 7560.5919\n",
      "Validation Accuracy: 1.09%\n",
      "-------------------------\n"
     ]
    },
    {
     "name": "stderr",
     "output_type": "stream",
     "text": [
      "                                                                                                                  \r"
     ]
    },
    {
     "name": "stdout",
     "output_type": "stream",
     "text": [
      "Epoch 18/400:\n",
      "Training Loss: 7555.2226\n",
      "Validation Loss: 7405.4665\n",
      "Validation Accuracy: 0.47%\n",
      "-------------------------\n"
     ]
    },
    {
     "name": "stderr",
     "output_type": "stream",
     "text": [
      "                                                                                                                  \r"
     ]
    },
    {
     "name": "stdout",
     "output_type": "stream",
     "text": [
      "Epoch 19/400:\n",
      "Training Loss: 7491.9375\n",
      "Validation Loss: 7516.9051\n",
      "Validation Accuracy: 0.86%\n",
      "-------------------------\n"
     ]
    },
    {
     "name": "stderr",
     "output_type": "stream",
     "text": [
      "                                                                                                                  \r"
     ]
    },
    {
     "name": "stdout",
     "output_type": "stream",
     "text": [
      "Epoch 20/400:\n",
      "Training Loss: 7430.1862\n",
      "Validation Loss: 7272.1576\n",
      "Validation Accuracy: 0.62%\n",
      "-------------------------\n"
     ]
    },
    {
     "name": "stderr",
     "output_type": "stream",
     "text": [
      "                                                                                                                  \r"
     ]
    },
    {
     "name": "stdout",
     "output_type": "stream",
     "text": [
      "Epoch 21/400:\n",
      "Training Loss: 7349.9581\n",
      "Validation Loss: 7256.6210\n",
      "Validation Accuracy: 0.94%\n",
      "-------------------------\n"
     ]
    },
    {
     "name": "stderr",
     "output_type": "stream",
     "text": [
      "                                                                                                                  \r"
     ]
    },
    {
     "name": "stdout",
     "output_type": "stream",
     "text": [
      "Epoch 22/400:\n",
      "Training Loss: 7322.6322\n",
      "Validation Loss: 7160.6738\n",
      "Validation Accuracy: 1.09%\n",
      "-------------------------\n"
     ]
    },
    {
     "name": "stderr",
     "output_type": "stream",
     "text": [
      "                                                                                                                  \r"
     ]
    },
    {
     "name": "stdout",
     "output_type": "stream",
     "text": [
      "Epoch 23/400:\n",
      "Training Loss: 7258.7685\n",
      "Validation Loss: 7128.8123\n",
      "Validation Accuracy: 1.17%\n",
      "-------------------------\n"
     ]
    },
    {
     "name": "stderr",
     "output_type": "stream",
     "text": [
      "                                                                                                                  \r"
     ]
    },
    {
     "name": "stdout",
     "output_type": "stream",
     "text": [
      "Epoch 24/400:\n",
      "Training Loss: 7219.4531\n",
      "Validation Loss: 7094.4641\n",
      "Validation Accuracy: 1.56%\n",
      "-------------------------\n"
     ]
    },
    {
     "name": "stderr",
     "output_type": "stream",
     "text": [
      "                                                                                                                  \r"
     ]
    },
    {
     "name": "stdout",
     "output_type": "stream",
     "text": [
      "Epoch 25/400:\n",
      "Training Loss: 7179.6249\n",
      "Validation Loss: 7308.9646\n",
      "Validation Accuracy: 0.39%\n",
      "-------------------------\n"
     ]
    },
    {
     "name": "stderr",
     "output_type": "stream",
     "text": [
      "                                                                                                                  \r"
     ]
    },
    {
     "name": "stdout",
     "output_type": "stream",
     "text": [
      "Epoch 26/400:\n",
      "Training Loss: 7151.5791\n",
      "Validation Loss: 7056.3747\n",
      "Validation Accuracy: 1.01%\n",
      "-------------------------\n"
     ]
    },
    {
     "name": "stderr",
     "output_type": "stream",
     "text": [
      "                                                                                                                  \r"
     ]
    },
    {
     "name": "stdout",
     "output_type": "stream",
     "text": [
      "Epoch 27/400:\n",
      "Training Loss: 7110.6108\n",
      "Validation Loss: 6998.1786\n",
      "Validation Accuracy: 1.17%\n",
      "-------------------------\n"
     ]
    },
    {
     "name": "stderr",
     "output_type": "stream",
     "text": [
      "                                                                                                                 \r"
     ]
    },
    {
     "name": "stdout",
     "output_type": "stream",
     "text": [
      "Epoch 28/400:\n",
      "Training Loss: 7080.5909\n",
      "Validation Loss: 6925.2337\n",
      "Validation Accuracy: 1.09%\n",
      "-------------------------\n"
     ]
    },
    {
     "name": "stderr",
     "output_type": "stream",
     "text": [
      "                                                                                                                  \r"
     ]
    },
    {
     "name": "stdout",
     "output_type": "stream",
     "text": [
      "Epoch 29/400:\n",
      "Training Loss: 7025.5252\n",
      "Validation Loss: 6890.5472\n",
      "Validation Accuracy: 1.33%\n",
      "-------------------------\n"
     ]
    },
    {
     "name": "stderr",
     "output_type": "stream",
     "text": [
      "                                                                                                                 \r"
     ]
    },
    {
     "name": "stdout",
     "output_type": "stream",
     "text": [
      "Epoch 30/400:\n",
      "Training Loss: 6987.5661\n",
      "Validation Loss: 6881.9867\n",
      "Validation Accuracy: 1.25%\n",
      "-------------------------\n"
     ]
    },
    {
     "name": "stderr",
     "output_type": "stream",
     "text": [
      "                                                                                                                 \r"
     ]
    },
    {
     "name": "stdout",
     "output_type": "stream",
     "text": [
      "Epoch 31/400:\n",
      "Training Loss: 6943.2609\n",
      "Validation Loss: 7037.1430\n",
      "Validation Accuracy: 0.55%\n",
      "-------------------------\n"
     ]
    },
    {
     "name": "stderr",
     "output_type": "stream",
     "text": [
      "                                                                                                                  \r"
     ]
    },
    {
     "name": "stdout",
     "output_type": "stream",
     "text": [
      "Epoch 32/400:\n",
      "Training Loss: 6967.5963\n",
      "Validation Loss: 6815.6889\n",
      "Validation Accuracy: 0.86%\n",
      "-------------------------\n"
     ]
    },
    {
     "name": "stderr",
     "output_type": "stream",
     "text": [
      "                                                                                                                  \r"
     ]
    },
    {
     "name": "stdout",
     "output_type": "stream",
     "text": [
      "Epoch 33/400:\n",
      "Training Loss: 6919.6537\n",
      "Validation Loss: 6799.5150\n",
      "Validation Accuracy: 0.70%\n",
      "-------------------------\n"
     ]
    },
    {
     "name": "stderr",
     "output_type": "stream",
     "text": [
      "                                                                                                                  \r"
     ]
    },
    {
     "name": "stdout",
     "output_type": "stream",
     "text": [
      "Epoch 34/400:\n",
      "Training Loss: 6880.6031\n",
      "Validation Loss: 6747.3957\n",
      "Validation Accuracy: 1.01%\n",
      "-------------------------\n"
     ]
    },
    {
     "name": "stderr",
     "output_type": "stream",
     "text": [
      "                                                                                                                 \r"
     ]
    },
    {
     "name": "stdout",
     "output_type": "stream",
     "text": [
      "Epoch 35/400:\n",
      "Training Loss: 6888.8033\n",
      "Validation Loss: 6846.9820\n",
      "Validation Accuracy: 1.40%\n",
      "-------------------------\n"
     ]
    },
    {
     "name": "stderr",
     "output_type": "stream",
     "text": [
      "                                                                                                                  \r"
     ]
    },
    {
     "name": "stdout",
     "output_type": "stream",
     "text": [
      "Epoch 36/400:\n",
      "Training Loss: 6854.9793\n",
      "Validation Loss: 6693.5810\n",
      "Validation Accuracy: 1.40%\n",
      "-------------------------\n"
     ]
    },
    {
     "name": "stderr",
     "output_type": "stream",
     "text": [
      "                                                                                                                 \r"
     ]
    },
    {
     "name": "stdout",
     "output_type": "stream",
     "text": [
      "Epoch 37/400:\n",
      "Training Loss: 6813.3996\n",
      "Validation Loss: 6734.2673\n",
      "Validation Accuracy: 1.33%\n",
      "-------------------------\n"
     ]
    },
    {
     "name": "stderr",
     "output_type": "stream",
     "text": [
      "                                                                                                                 \r"
     ]
    },
    {
     "name": "stdout",
     "output_type": "stream",
     "text": [
      "Epoch 38/400:\n",
      "Training Loss: 6803.5075\n",
      "Validation Loss: 6678.4869\n",
      "Validation Accuracy: 1.48%\n",
      "-------------------------\n"
     ]
    },
    {
     "name": "stderr",
     "output_type": "stream",
     "text": [
      "                                                                                                                 \r"
     ]
    },
    {
     "name": "stdout",
     "output_type": "stream",
     "text": [
      "Epoch 39/400:\n",
      "Training Loss: 6796.0450\n",
      "Validation Loss: 6658.2064\n",
      "Validation Accuracy: 1.25%\n",
      "-------------------------\n"
     ]
    },
    {
     "name": "stderr",
     "output_type": "stream",
     "text": [
      "                                                                                                                  \r"
     ]
    },
    {
     "name": "stdout",
     "output_type": "stream",
     "text": [
      "Epoch 40/400:\n",
      "Training Loss: 6792.0145\n",
      "Validation Loss: 6663.6042\n",
      "Validation Accuracy: 1.17%\n",
      "-------------------------\n"
     ]
    },
    {
     "name": "stderr",
     "output_type": "stream",
     "text": [
      "                                                                                                                 \r"
     ]
    },
    {
     "name": "stdout",
     "output_type": "stream",
     "text": [
      "Epoch 41/400:\n",
      "Training Loss: 6742.7824\n",
      "Validation Loss: 6649.5756\n",
      "Validation Accuracy: 1.33%\n",
      "-------------------------\n"
     ]
    },
    {
     "name": "stderr",
     "output_type": "stream",
     "text": [
      "                                                                                                                 \r"
     ]
    },
    {
     "name": "stdout",
     "output_type": "stream",
     "text": [
      "Epoch 42/400:\n",
      "Training Loss: 6721.6659\n",
      "Validation Loss: 6580.8409\n",
      "Validation Accuracy: 0.78%\n",
      "-------------------------\n"
     ]
    },
    {
     "name": "stderr",
     "output_type": "stream",
     "text": [
      "                                                                                                                 \r"
     ]
    },
    {
     "name": "stdout",
     "output_type": "stream",
     "text": [
      "Epoch 43/400:\n",
      "Training Loss: 6663.1201\n",
      "Validation Loss: 6581.3739\n",
      "Validation Accuracy: 1.56%\n",
      "-------------------------\n"
     ]
    },
    {
     "name": "stderr",
     "output_type": "stream",
     "text": [
      "                                                                                                                 \r"
     ]
    },
    {
     "name": "stdout",
     "output_type": "stream",
     "text": [
      "Epoch 44/400:\n",
      "Training Loss: 6669.7452\n",
      "Validation Loss: 6513.8237\n",
      "Validation Accuracy: 1.33%\n",
      "-------------------------\n"
     ]
    },
    {
     "name": "stderr",
     "output_type": "stream",
     "text": [
      "                                                                                                                 \r"
     ]
    },
    {
     "name": "stdout",
     "output_type": "stream",
     "text": [
      "Epoch 45/400:\n",
      "Training Loss: 6647.9991\n",
      "Validation Loss: 6491.9746\n",
      "Validation Accuracy: 1.79%\n",
      "-------------------------\n"
     ]
    },
    {
     "name": "stderr",
     "output_type": "stream",
     "text": [
      "                                                                                                                 \r"
     ]
    },
    {
     "name": "stdout",
     "output_type": "stream",
     "text": [
      "Epoch 46/400:\n",
      "Training Loss: 6615.3529\n",
      "Validation Loss: 6485.3753\n",
      "Validation Accuracy: 1.79%\n",
      "-------------------------\n"
     ]
    },
    {
     "name": "stderr",
     "output_type": "stream",
     "text": [
      "                                                                                                                 \r"
     ]
    },
    {
     "name": "stdout",
     "output_type": "stream",
     "text": [
      "Epoch 47/400:\n",
      "Training Loss: 6608.2997\n",
      "Validation Loss: 6459.2486\n",
      "Validation Accuracy: 1.72%\n",
      "-------------------------\n"
     ]
    },
    {
     "name": "stderr",
     "output_type": "stream",
     "text": [
      "                                                                                                                 \r"
     ]
    },
    {
     "name": "stdout",
     "output_type": "stream",
     "text": [
      "Epoch 48/400:\n",
      "Training Loss: 6582.2976\n",
      "Validation Loss: 6464.8327\n",
      "Validation Accuracy: 1.17%\n",
      "-------------------------\n"
     ]
    },
    {
     "name": "stderr",
     "output_type": "stream",
     "text": [
      "                                                                                                                 \r"
     ]
    },
    {
     "name": "stdout",
     "output_type": "stream",
     "text": [
      "Epoch 49/400:\n",
      "Training Loss: 6564.2992\n",
      "Validation Loss: 6426.4857\n",
      "Validation Accuracy: 1.48%\n",
      "-------------------------\n"
     ]
    },
    {
     "name": "stderr",
     "output_type": "stream",
     "text": [
      "                                                                                                                 \r"
     ]
    },
    {
     "name": "stdout",
     "output_type": "stream",
     "text": [
      "Epoch 50/400:\n",
      "Training Loss: 6559.7077\n",
      "Validation Loss: 6439.4540\n",
      "Validation Accuracy: 2.26%\n",
      "-------------------------\n"
     ]
    },
    {
     "name": "stderr",
     "output_type": "stream",
     "text": [
      "                                                                                                                 \r"
     ]
    },
    {
     "name": "stdout",
     "output_type": "stream",
     "text": [
      "Epoch 51/400:\n",
      "Training Loss: 6581.8658\n",
      "Validation Loss: 6492.5310\n",
      "Validation Accuracy: 1.48%\n",
      "-------------------------\n"
     ]
    },
    {
     "name": "stderr",
     "output_type": "stream",
     "text": [
      "                                                                                                                 \r"
     ]
    },
    {
     "name": "stdout",
     "output_type": "stream",
     "text": [
      "Epoch 52/400:\n",
      "Training Loss: 6492.6061\n",
      "Validation Loss: 6395.0944\n",
      "Validation Accuracy: 1.56%\n",
      "-------------------------\n"
     ]
    },
    {
     "name": "stderr",
     "output_type": "stream",
     "text": [
      "                                                                                                                 \r"
     ]
    },
    {
     "name": "stdout",
     "output_type": "stream",
     "text": [
      "Epoch 53/400:\n",
      "Training Loss: 6505.2744\n",
      "Validation Loss: 6464.6719\n",
      "Validation Accuracy: 1.64%\n",
      "-------------------------\n"
     ]
    },
    {
     "name": "stderr",
     "output_type": "stream",
     "text": [
      "                                                                                                                 \r"
     ]
    },
    {
     "name": "stdout",
     "output_type": "stream",
     "text": [
      "Epoch 54/400:\n",
      "Training Loss: 6479.5352\n",
      "Validation Loss: 6426.3868\n",
      "Validation Accuracy: 1.33%\n",
      "-------------------------\n"
     ]
    },
    {
     "name": "stderr",
     "output_type": "stream",
     "text": [
      "                                                                                                                 \r"
     ]
    },
    {
     "name": "stdout",
     "output_type": "stream",
     "text": [
      "Epoch 55/400:\n",
      "Training Loss: 6440.9491\n",
      "Validation Loss: 6342.7231\n",
      "Validation Accuracy: 2.18%\n",
      "-------------------------\n"
     ]
    },
    {
     "name": "stderr",
     "output_type": "stream",
     "text": [
      "                                                                                                                 \r"
     ]
    },
    {
     "name": "stdout",
     "output_type": "stream",
     "text": [
      "Epoch 56/400:\n",
      "Training Loss: 6435.9291\n",
      "Validation Loss: 6294.4365\n",
      "Validation Accuracy: 1.72%\n",
      "-------------------------\n"
     ]
    },
    {
     "name": "stderr",
     "output_type": "stream",
     "text": [
      "                                                                                                                 \r"
     ]
    },
    {
     "name": "stdout",
     "output_type": "stream",
     "text": [
      "Epoch 57/400:\n",
      "Training Loss: 6444.8612\n",
      "Validation Loss: 6284.8771\n",
      "Validation Accuracy: 1.95%\n",
      "-------------------------\n"
     ]
    },
    {
     "name": "stderr",
     "output_type": "stream",
     "text": [
      "                                                                                                                 \r"
     ]
    },
    {
     "name": "stdout",
     "output_type": "stream",
     "text": [
      "Epoch 58/400:\n",
      "Training Loss: 6411.9603\n",
      "Validation Loss: 6259.4826\n",
      "Validation Accuracy: 2.03%\n",
      "-------------------------\n"
     ]
    },
    {
     "name": "stderr",
     "output_type": "stream",
     "text": [
      "                                                                                                                 \r"
     ]
    },
    {
     "name": "stdout",
     "output_type": "stream",
     "text": [
      "Epoch 59/400:\n",
      "Training Loss: 6376.0705\n",
      "Validation Loss: 6260.0775\n",
      "Validation Accuracy: 1.87%\n",
      "-------------------------\n"
     ]
    },
    {
     "name": "stderr",
     "output_type": "stream",
     "text": [
      "                                                                                                                 \r"
     ]
    },
    {
     "name": "stdout",
     "output_type": "stream",
     "text": [
      "Epoch 60/400:\n",
      "Training Loss: 6386.3009\n",
      "Validation Loss: 6419.2704\n",
      "Validation Accuracy: 2.42%\n",
      "-------------------------\n"
     ]
    },
    {
     "name": "stderr",
     "output_type": "stream",
     "text": [
      "                                                                                                                 \r"
     ]
    },
    {
     "name": "stdout",
     "output_type": "stream",
     "text": [
      "Epoch 61/400:\n",
      "Training Loss: 6346.3807\n",
      "Validation Loss: 6223.2721\n",
      "Validation Accuracy: 2.34%\n",
      "-------------------------\n"
     ]
    },
    {
     "name": "stderr",
     "output_type": "stream",
     "text": [
      "                                                                                                                 \r"
     ]
    },
    {
     "name": "stdout",
     "output_type": "stream",
     "text": [
      "Epoch 62/400:\n",
      "Training Loss: 6342.9176\n",
      "Validation Loss: 6250.2310\n",
      "Validation Accuracy: 1.95%\n",
      "-------------------------\n"
     ]
    },
    {
     "name": "stderr",
     "output_type": "stream",
     "text": [
      "                                                                                                                 \r"
     ]
    },
    {
     "name": "stdout",
     "output_type": "stream",
     "text": [
      "Epoch 63/400:\n",
      "Training Loss: 6322.6933\n",
      "Validation Loss: 6178.5127\n",
      "Validation Accuracy: 2.73%\n",
      "-------------------------\n"
     ]
    },
    {
     "name": "stderr",
     "output_type": "stream",
     "text": [
      "                                                                                                                 \r"
     ]
    },
    {
     "name": "stdout",
     "output_type": "stream",
     "text": [
      "Epoch 64/400:\n",
      "Training Loss: 6327.8106\n",
      "Validation Loss: 6352.2497\n",
      "Validation Accuracy: 3.28%\n",
      "-------------------------\n"
     ]
    },
    {
     "name": "stderr",
     "output_type": "stream",
     "text": [
      "                                                                                                                 \r"
     ]
    },
    {
     "name": "stdout",
     "output_type": "stream",
     "text": [
      "Epoch 65/400:\n",
      "Training Loss: 6311.3720\n",
      "Validation Loss: 6278.6459\n",
      "Validation Accuracy: 3.82%\n",
      "-------------------------\n"
     ]
    },
    {
     "name": "stderr",
     "output_type": "stream",
     "text": [
      "                                                                                                                 \r"
     ]
    },
    {
     "name": "stdout",
     "output_type": "stream",
     "text": [
      "Epoch 66/400:\n",
      "Training Loss: 6302.1752\n",
      "Validation Loss: 6111.8025\n",
      "Validation Accuracy: 3.82%\n",
      "-------------------------\n"
     ]
    },
    {
     "name": "stderr",
     "output_type": "stream",
     "text": [
      "                                                                                                                 \r"
     ]
    },
    {
     "name": "stdout",
     "output_type": "stream",
     "text": [
      "Epoch 67/400:\n",
      "Training Loss: 6287.4241\n",
      "Validation Loss: 6157.0127\n",
      "Validation Accuracy: 3.28%\n",
      "-------------------------\n"
     ]
    },
    {
     "name": "stderr",
     "output_type": "stream",
     "text": [
      "                                                                                                                 \r"
     ]
    },
    {
     "name": "stdout",
     "output_type": "stream",
     "text": [
      "Epoch 68/400:\n",
      "Training Loss: 6254.7398\n",
      "Validation Loss: 6216.7740\n",
      "Validation Accuracy: 3.67%\n",
      "-------------------------\n"
     ]
    },
    {
     "name": "stderr",
     "output_type": "stream",
     "text": [
      "                                                                                                                 \r"
     ]
    },
    {
     "name": "stdout",
     "output_type": "stream",
     "text": [
      "Epoch 69/400:\n",
      "Training Loss: 6228.5857\n",
      "Validation Loss: 6124.5523\n",
      "Validation Accuracy: 3.43%\n",
      "-------------------------\n"
     ]
    },
    {
     "name": "stderr",
     "output_type": "stream",
     "text": [
      "                                                                                                                 \r"
     ]
    },
    {
     "name": "stdout",
     "output_type": "stream",
     "text": [
      "Epoch 70/400:\n",
      "Training Loss: 6231.2765\n",
      "Validation Loss: 6235.2575\n",
      "Validation Accuracy: 3.98%\n",
      "-------------------------\n"
     ]
    },
    {
     "name": "stderr",
     "output_type": "stream",
     "text": [
      "                                                                                                                 \r"
     ]
    },
    {
     "name": "stdout",
     "output_type": "stream",
     "text": [
      "Epoch 71/400:\n",
      "Training Loss: 6215.5633\n",
      "Validation Loss: 6087.9052\n",
      "Validation Accuracy: 4.91%\n",
      "-------------------------\n"
     ]
    },
    {
     "name": "stderr",
     "output_type": "stream",
     "text": [
      "                                                                                                                 \r"
     ]
    },
    {
     "name": "stdout",
     "output_type": "stream",
     "text": [
      "Epoch 72/400:\n",
      "Training Loss: 6224.6510\n",
      "Validation Loss: 6114.5965\n",
      "Validation Accuracy: 4.06%\n",
      "-------------------------\n"
     ]
    },
    {
     "name": "stderr",
     "output_type": "stream",
     "text": [
      "                                                                                                                 \r"
     ]
    },
    {
     "name": "stdout",
     "output_type": "stream",
     "text": [
      "Epoch 73/400:\n",
      "Training Loss: 6193.1114\n",
      "Validation Loss: 6060.0250\n",
      "Validation Accuracy: 3.82%\n",
      "-------------------------\n"
     ]
    },
    {
     "name": "stderr",
     "output_type": "stream",
     "text": [
      "                                                                                                                 \r"
     ]
    },
    {
     "name": "stdout",
     "output_type": "stream",
     "text": [
      "Epoch 74/400:\n",
      "Training Loss: 6217.9875\n",
      "Validation Loss: 6024.5949\n",
      "Validation Accuracy: 4.06%\n",
      "-------------------------\n"
     ]
    },
    {
     "name": "stderr",
     "output_type": "stream",
     "text": [
      "                                                                                                                 \r"
     ]
    },
    {
     "name": "stdout",
     "output_type": "stream",
     "text": [
      "Epoch 75/400:\n",
      "Training Loss: 6188.9290\n",
      "Validation Loss: 6019.5978\n",
      "Validation Accuracy: 4.60%\n",
      "-------------------------\n"
     ]
    },
    {
     "name": "stderr",
     "output_type": "stream",
     "text": [
      "                                                                                                                 \r"
     ]
    },
    {
     "name": "stdout",
     "output_type": "stream",
     "text": [
      "Epoch 76/400:\n",
      "Training Loss: 6165.8657\n",
      "Validation Loss: 5961.9369\n",
      "Validation Accuracy: 4.60%\n",
      "-------------------------\n"
     ]
    },
    {
     "name": "stderr",
     "output_type": "stream",
     "text": [
      "                                                                                                                 \r"
     ]
    },
    {
     "name": "stdout",
     "output_type": "stream",
     "text": [
      "Epoch 77/400:\n",
      "Training Loss: 6131.1851\n",
      "Validation Loss: 6319.1504\n",
      "Validation Accuracy: 4.76%\n",
      "-------------------------\n"
     ]
    },
    {
     "name": "stderr",
     "output_type": "stream",
     "text": [
      "                                                                                                                 \r"
     ]
    },
    {
     "name": "stdout",
     "output_type": "stream",
     "text": [
      "Epoch 78/400:\n",
      "Training Loss: 6109.3615\n",
      "Validation Loss: 6035.0022\n",
      "Validation Accuracy: 4.84%\n",
      "-------------------------\n"
     ]
    },
    {
     "name": "stderr",
     "output_type": "stream",
     "text": [
      "                                                                                                                 \r"
     ]
    },
    {
     "name": "stdout",
     "output_type": "stream",
     "text": [
      "Epoch 79/400:\n",
      "Training Loss: 6102.4590\n",
      "Validation Loss: 5893.2034\n",
      "Validation Accuracy: 4.52%\n",
      "-------------------------\n"
     ]
    },
    {
     "name": "stderr",
     "output_type": "stream",
     "text": [
      "                                                                                                                 \r"
     ]
    },
    {
     "name": "stdout",
     "output_type": "stream",
     "text": [
      "Epoch 80/400:\n",
      "Training Loss: 6101.2736\n",
      "Validation Loss: 6310.6201\n",
      "Validation Accuracy: 4.52%\n",
      "-------------------------\n"
     ]
    },
    {
     "name": "stderr",
     "output_type": "stream",
     "text": [
      "                                                                                                                 \r"
     ]
    },
    {
     "name": "stdout",
     "output_type": "stream",
     "text": [
      "Epoch 81/400:\n",
      "Training Loss: 6097.2407\n",
      "Validation Loss: 5925.5385\n",
      "Validation Accuracy: 3.90%\n",
      "-------------------------\n"
     ]
    },
    {
     "name": "stderr",
     "output_type": "stream",
     "text": [
      "                                                                                                                 \r"
     ]
    },
    {
     "name": "stdout",
     "output_type": "stream",
     "text": [
      "Epoch 82/400:\n",
      "Training Loss: 6074.5442\n",
      "Validation Loss: 5883.5607\n",
      "Validation Accuracy: 4.99%\n",
      "-------------------------\n"
     ]
    },
    {
     "name": "stderr",
     "output_type": "stream",
     "text": [
      "                                                                                                                 \r"
     ]
    },
    {
     "name": "stdout",
     "output_type": "stream",
     "text": [
      "Epoch 83/400:\n",
      "Training Loss: 6030.3627\n",
      "Validation Loss: 5903.1047\n",
      "Validation Accuracy: 4.37%\n",
      "-------------------------\n"
     ]
    },
    {
     "name": "stderr",
     "output_type": "stream",
     "text": [
      "                                                                                                                 \r"
     ]
    },
    {
     "name": "stdout",
     "output_type": "stream",
     "text": [
      "Epoch 84/400:\n",
      "Training Loss: 6031.6358\n",
      "Validation Loss: 5896.7243\n",
      "Validation Accuracy: 4.29%\n",
      "-------------------------\n"
     ]
    },
    {
     "name": "stderr",
     "output_type": "stream",
     "text": [
      "                                                                                                                 \r"
     ]
    },
    {
     "name": "stdout",
     "output_type": "stream",
     "text": [
      "Epoch 85/400:\n",
      "Training Loss: 6063.4204\n",
      "Validation Loss: 5876.8965\n",
      "Validation Accuracy: 3.90%\n",
      "-------------------------\n"
     ]
    },
    {
     "name": "stderr",
     "output_type": "stream",
     "text": [
      "                                                                                                                 \r"
     ]
    },
    {
     "name": "stdout",
     "output_type": "stream",
     "text": [
      "Epoch 86/400:\n",
      "Training Loss: 5998.9403\n",
      "Validation Loss: 5893.0727\n",
      "Validation Accuracy: 4.76%\n",
      "-------------------------\n"
     ]
    },
    {
     "name": "stderr",
     "output_type": "stream",
     "text": [
      "                                                                                                                 \r"
     ]
    },
    {
     "name": "stdout",
     "output_type": "stream",
     "text": [
      "Epoch 87/400:\n",
      "Training Loss: 5976.8692\n",
      "Validation Loss: 5942.1364\n",
      "Validation Accuracy: 4.29%\n",
      "-------------------------\n"
     ]
    },
    {
     "name": "stderr",
     "output_type": "stream",
     "text": [
      "                                                                                                                 \r"
     ]
    },
    {
     "name": "stdout",
     "output_type": "stream",
     "text": [
      "Epoch 88/400:\n",
      "Training Loss: 5966.5449\n",
      "Validation Loss: 5872.6249\n",
      "Validation Accuracy: 4.45%\n",
      "-------------------------\n"
     ]
    },
    {
     "name": "stderr",
     "output_type": "stream",
     "text": [
      "                                                                                                                 \r"
     ]
    },
    {
     "name": "stdout",
     "output_type": "stream",
     "text": [
      "Epoch 89/400:\n",
      "Training Loss: 5940.0766\n",
      "Validation Loss: 5811.5603\n",
      "Validation Accuracy: 3.90%\n",
      "-------------------------\n"
     ]
    },
    {
     "name": "stderr",
     "output_type": "stream",
     "text": [
      "                                                                                                                 \r"
     ]
    },
    {
     "name": "stdout",
     "output_type": "stream",
     "text": [
      "Epoch 90/400:\n",
      "Training Loss: 5941.9697\n",
      "Validation Loss: 5730.2992\n",
      "Validation Accuracy: 4.45%\n",
      "-------------------------\n"
     ]
    },
    {
     "name": "stderr",
     "output_type": "stream",
     "text": [
      "                                                                                                                 \r"
     ]
    },
    {
     "name": "stdout",
     "output_type": "stream",
     "text": [
      "Epoch 91/400:\n",
      "Training Loss: 5932.4589\n",
      "Validation Loss: 5768.7626\n",
      "Validation Accuracy: 4.68%\n",
      "-------------------------\n"
     ]
    },
    {
     "name": "stderr",
     "output_type": "stream",
     "text": [
      "                                                                                                                 \r"
     ]
    },
    {
     "name": "stdout",
     "output_type": "stream",
     "text": [
      "Epoch 92/400:\n",
      "Training Loss: 5887.8633\n",
      "Validation Loss: 5752.6975\n",
      "Validation Accuracy: 4.84%\n",
      "-------------------------\n"
     ]
    },
    {
     "name": "stderr",
     "output_type": "stream",
     "text": [
      "                                                                                                                 \r"
     ]
    },
    {
     "name": "stdout",
     "output_type": "stream",
     "text": [
      "Epoch 93/400:\n",
      "Training Loss: 5897.2601\n",
      "Validation Loss: 5746.9183\n",
      "Validation Accuracy: 4.60%\n",
      "-------------------------\n"
     ]
    },
    {
     "name": "stderr",
     "output_type": "stream",
     "text": [
      "                                                                                                                 \r"
     ]
    },
    {
     "name": "stdout",
     "output_type": "stream",
     "text": [
      "Epoch 94/400:\n",
      "Training Loss: 5871.6621\n",
      "Validation Loss: 5781.2682\n",
      "Validation Accuracy: 4.68%\n",
      "-------------------------\n"
     ]
    },
    {
     "name": "stderr",
     "output_type": "stream",
     "text": [
      "                                                                                                                 \r"
     ]
    },
    {
     "name": "stdout",
     "output_type": "stream",
     "text": [
      "Epoch 95/400:\n",
      "Training Loss: 5847.0581\n",
      "Validation Loss: 5708.6725\n",
      "Validation Accuracy: 3.90%\n",
      "-------------------------\n"
     ]
    },
    {
     "name": "stderr",
     "output_type": "stream",
     "text": [
      "                                                                                                                 \r"
     ]
    },
    {
     "name": "stdout",
     "output_type": "stream",
     "text": [
      "Epoch 96/400:\n",
      "Training Loss: 5861.3278\n",
      "Validation Loss: 5641.7781\n",
      "Validation Accuracy: 4.45%\n",
      "-------------------------\n"
     ]
    },
    {
     "name": "stderr",
     "output_type": "stream",
     "text": [
      "                                                                                                                 \r"
     ]
    },
    {
     "name": "stdout",
     "output_type": "stream",
     "text": [
      "Epoch 97/400:\n",
      "Training Loss: 5818.0061\n",
      "Validation Loss: 5876.3653\n",
      "Validation Accuracy: 4.45%\n",
      "-------------------------\n"
     ]
    },
    {
     "name": "stderr",
     "output_type": "stream",
     "text": [
      "                                                                                                                 \r"
     ]
    },
    {
     "name": "stdout",
     "output_type": "stream",
     "text": [
      "Epoch 98/400:\n",
      "Training Loss: 5822.5255\n",
      "Validation Loss: 5707.4839\n",
      "Validation Accuracy: 3.82%\n",
      "-------------------------\n"
     ]
    },
    {
     "name": "stderr",
     "output_type": "stream",
     "text": [
      "                                                                                                                 \r"
     ]
    },
    {
     "name": "stdout",
     "output_type": "stream",
     "text": [
      "Epoch 99/400:\n",
      "Training Loss: 5784.8697\n",
      "Validation Loss: 5786.2132\n",
      "Validation Accuracy: 3.90%\n",
      "-------------------------\n"
     ]
    },
    {
     "name": "stderr",
     "output_type": "stream",
     "text": [
      "                                                                                                                  \r"
     ]
    },
    {
     "name": "stdout",
     "output_type": "stream",
     "text": [
      "Epoch 100/400:\n",
      "Training Loss: 5797.3400\n",
      "Validation Loss: 5599.1618\n",
      "Validation Accuracy: 4.13%\n",
      "-------------------------\n"
     ]
    },
    {
     "name": "stderr",
     "output_type": "stream",
     "text": [
      "                                                                                                                  \r"
     ]
    },
    {
     "name": "stdout",
     "output_type": "stream",
     "text": [
      "Epoch 101/400:\n",
      "Training Loss: 5768.2113\n",
      "Validation Loss: 5579.2115\n",
      "Validation Accuracy: 4.60%\n",
      "-------------------------\n"
     ]
    },
    {
     "name": "stderr",
     "output_type": "stream",
     "text": [
      "                                                                                                                  \r"
     ]
    },
    {
     "name": "stdout",
     "output_type": "stream",
     "text": [
      "Epoch 102/400:\n",
      "Training Loss: 5761.8875\n",
      "Validation Loss: 5596.9232\n",
      "Validation Accuracy: 4.60%\n",
      "-------------------------\n"
     ]
    },
    {
     "name": "stderr",
     "output_type": "stream",
     "text": [
      "                                                                                                                  \r"
     ]
    },
    {
     "name": "stdout",
     "output_type": "stream",
     "text": [
      "Epoch 103/400:\n",
      "Training Loss: 5720.3897\n",
      "Validation Loss: 5549.1071\n",
      "Validation Accuracy: 4.84%\n",
      "-------------------------\n"
     ]
    },
    {
     "name": "stderr",
     "output_type": "stream",
     "text": [
      "                                                                                                                  \r"
     ]
    },
    {
     "name": "stdout",
     "output_type": "stream",
     "text": [
      "Epoch 104/400:\n",
      "Training Loss: 5730.8529\n",
      "Validation Loss: 5709.8581\n",
      "Validation Accuracy: 4.37%\n",
      "-------------------------\n"
     ]
    },
    {
     "name": "stderr",
     "output_type": "stream",
     "text": [
      "                                                                                                                  \r"
     ]
    },
    {
     "name": "stdout",
     "output_type": "stream",
     "text": [
      "Epoch 105/400:\n",
      "Training Loss: 5724.4663\n",
      "Validation Loss: 5528.4974\n",
      "Validation Accuracy: 4.45%\n",
      "-------------------------\n"
     ]
    },
    {
     "name": "stderr",
     "output_type": "stream",
     "text": [
      "                                                                                                                  \r"
     ]
    },
    {
     "name": "stdout",
     "output_type": "stream",
     "text": [
      "Epoch 106/400:\n",
      "Training Loss: 5691.5789\n",
      "Validation Loss: 5575.8571\n",
      "Validation Accuracy: 4.52%\n",
      "-------------------------\n"
     ]
    },
    {
     "name": "stderr",
     "output_type": "stream",
     "text": [
      "                                                                                                                  \r"
     ]
    },
    {
     "name": "stdout",
     "output_type": "stream",
     "text": [
      "Epoch 107/400:\n",
      "Training Loss: 5686.0644\n",
      "Validation Loss: 5548.0002\n",
      "Validation Accuracy: 4.29%\n",
      "-------------------------\n"
     ]
    },
    {
     "name": "stderr",
     "output_type": "stream",
     "text": [
      "                                                                                                                  \r"
     ]
    },
    {
     "name": "stdout",
     "output_type": "stream",
     "text": [
      "Epoch 108/400:\n",
      "Training Loss: 5683.9137\n",
      "Validation Loss: 5434.9776\n",
      "Validation Accuracy: 3.90%\n",
      "-------------------------\n"
     ]
    },
    {
     "name": "stderr",
     "output_type": "stream",
     "text": [
      "                                                                                                                  \r"
     ]
    },
    {
     "name": "stdout",
     "output_type": "stream",
     "text": [
      "Epoch 109/400:\n",
      "Training Loss: 5669.2273\n",
      "Validation Loss: 5483.5918\n",
      "Validation Accuracy: 4.29%\n",
      "-------------------------\n"
     ]
    },
    {
     "name": "stderr",
     "output_type": "stream",
     "text": [
      "                                                                                                                  \r"
     ]
    },
    {
     "name": "stdout",
     "output_type": "stream",
     "text": [
      "Epoch 110/400:\n",
      "Training Loss: 5658.5729\n",
      "Validation Loss: 5664.6210\n",
      "Validation Accuracy: 4.45%\n",
      "-------------------------\n"
     ]
    },
    {
     "name": "stderr",
     "output_type": "stream",
     "text": [
      "                                                                                                                  \r"
     ]
    },
    {
     "name": "stdout",
     "output_type": "stream",
     "text": [
      "Epoch 111/400:\n",
      "Training Loss: 5650.7796\n",
      "Validation Loss: 5556.4341\n",
      "Validation Accuracy: 4.52%\n",
      "-------------------------\n"
     ]
    },
    {
     "name": "stderr",
     "output_type": "stream",
     "text": [
      "                                                                                                                  \r"
     ]
    },
    {
     "name": "stdout",
     "output_type": "stream",
     "text": [
      "Epoch 112/400:\n",
      "Training Loss: 5614.1212\n",
      "Validation Loss: 5718.8465\n",
      "Validation Accuracy: 4.45%\n",
      "-------------------------\n"
     ]
    },
    {
     "name": "stderr",
     "output_type": "stream",
     "text": [
      "                                                                                                                  \r"
     ]
    },
    {
     "name": "stdout",
     "output_type": "stream",
     "text": [
      "Epoch 113/400:\n",
      "Training Loss: 5617.2618\n",
      "Validation Loss: 5585.1129\n",
      "Validation Accuracy: 4.21%\n",
      "-------------------------\n"
     ]
    },
    {
     "name": "stderr",
     "output_type": "stream",
     "text": [
      "                                                                                                                  \r"
     ]
    },
    {
     "name": "stdout",
     "output_type": "stream",
     "text": [
      "Epoch 114/400:\n",
      "Training Loss: 5587.3513\n",
      "Validation Loss: 5405.6561\n",
      "Validation Accuracy: 4.21%\n",
      "-------------------------\n"
     ]
    },
    {
     "name": "stderr",
     "output_type": "stream",
     "text": [
      "                                                                                                                  \r"
     ]
    },
    {
     "name": "stdout",
     "output_type": "stream",
     "text": [
      "Epoch 115/400:\n",
      "Training Loss: 5582.3076\n",
      "Validation Loss: 5536.9695\n",
      "Validation Accuracy: 4.06%\n",
      "-------------------------\n"
     ]
    },
    {
     "name": "stderr",
     "output_type": "stream",
     "text": [
      "                                                                                                                  \r"
     ]
    },
    {
     "name": "stdout",
     "output_type": "stream",
     "text": [
      "Epoch 116/400:\n",
      "Training Loss: 5599.2045\n",
      "Validation Loss: 5380.1241\n",
      "Validation Accuracy: 3.90%\n",
      "-------------------------\n"
     ]
    },
    {
     "name": "stderr",
     "output_type": "stream",
     "text": [
      "                                                                                                                  \r"
     ]
    },
    {
     "name": "stdout",
     "output_type": "stream",
     "text": [
      "Epoch 117/400:\n",
      "Training Loss: 5561.9719\n",
      "Validation Loss: 5417.4504\n",
      "Validation Accuracy: 4.29%\n",
      "-------------------------\n"
     ]
    },
    {
     "name": "stderr",
     "output_type": "stream",
     "text": [
      "                                                                                                                  \r"
     ]
    },
    {
     "name": "stdout",
     "output_type": "stream",
     "text": [
      "Epoch 118/400:\n",
      "Training Loss: 5541.4791\n",
      "Validation Loss: 5366.2266\n",
      "Validation Accuracy: 3.59%\n",
      "-------------------------\n"
     ]
    },
    {
     "name": "stderr",
     "output_type": "stream",
     "text": [
      "                                                                                                                  \r"
     ]
    },
    {
     "name": "stdout",
     "output_type": "stream",
     "text": [
      "Epoch 119/400:\n",
      "Training Loss: 5592.5580\n",
      "Validation Loss: 5347.8133\n",
      "Validation Accuracy: 4.21%\n",
      "-------------------------\n"
     ]
    },
    {
     "name": "stderr",
     "output_type": "stream",
     "text": [
      "                                                                                                                  \r"
     ]
    },
    {
     "name": "stdout",
     "output_type": "stream",
     "text": [
      "Epoch 120/400:\n",
      "Training Loss: 5562.0750\n",
      "Validation Loss: 5354.5405\n",
      "Validation Accuracy: 4.37%\n",
      "-------------------------\n"
     ]
    },
    {
     "name": "stderr",
     "output_type": "stream",
     "text": [
      "                                                                                                                  \r"
     ]
    },
    {
     "name": "stdout",
     "output_type": "stream",
     "text": [
      "Epoch 121/400:\n",
      "Training Loss: 5498.9192\n",
      "Validation Loss: 5318.7710\n",
      "Validation Accuracy: 3.74%\n",
      "-------------------------\n"
     ]
    },
    {
     "name": "stderr",
     "output_type": "stream",
     "text": [
      "                                                                                                                  \r"
     ]
    },
    {
     "name": "stdout",
     "output_type": "stream",
     "text": [
      "Epoch 122/400:\n",
      "Training Loss: 5506.2720\n",
      "Validation Loss: 5302.9524\n",
      "Validation Accuracy: 4.52%\n",
      "-------------------------\n"
     ]
    },
    {
     "name": "stderr",
     "output_type": "stream",
     "text": [
      "                                                                                                                  \r"
     ]
    },
    {
     "name": "stdout",
     "output_type": "stream",
     "text": [
      "Epoch 123/400:\n",
      "Training Loss: 5489.9722\n",
      "Validation Loss: 5357.9901\n",
      "Validation Accuracy: 4.06%\n",
      "-------------------------\n"
     ]
    },
    {
     "name": "stderr",
     "output_type": "stream",
     "text": [
      "                                                                                                                  \r"
     ]
    },
    {
     "name": "stdout",
     "output_type": "stream",
     "text": [
      "Epoch 124/400:\n",
      "Training Loss: 5496.6192\n",
      "Validation Loss: 5518.5587\n",
      "Validation Accuracy: 4.29%\n",
      "-------------------------\n"
     ]
    },
    {
     "name": "stderr",
     "output_type": "stream",
     "text": [
      "                                                                                                                  \r"
     ]
    },
    {
     "name": "stdout",
     "output_type": "stream",
     "text": [
      "Epoch 125/400:\n",
      "Training Loss: 5510.1302\n",
      "Validation Loss: 5289.7167\n",
      "Validation Accuracy: 3.98%\n",
      "-------------------------\n"
     ]
    },
    {
     "name": "stderr",
     "output_type": "stream",
     "text": [
      "                                                                                                                  \r"
     ]
    },
    {
     "name": "stdout",
     "output_type": "stream",
     "text": [
      "Epoch 126/400:\n",
      "Training Loss: 5439.7399\n",
      "Validation Loss: 5294.3046\n",
      "Validation Accuracy: 3.98%\n",
      "-------------------------\n"
     ]
    },
    {
     "name": "stderr",
     "output_type": "stream",
     "text": [
      "                                                                                                                  \r"
     ]
    },
    {
     "name": "stdout",
     "output_type": "stream",
     "text": [
      "Epoch 127/400:\n",
      "Training Loss: 5471.5690\n",
      "Validation Loss: 5283.3101\n",
      "Validation Accuracy: 4.52%\n",
      "-------------------------\n"
     ]
    },
    {
     "name": "stderr",
     "output_type": "stream",
     "text": [
      "                                                                                                                  \r"
     ]
    },
    {
     "name": "stdout",
     "output_type": "stream",
     "text": [
      "Epoch 128/400:\n",
      "Training Loss: 5439.5746\n",
      "Validation Loss: 5260.4862\n",
      "Validation Accuracy: 4.13%\n",
      "-------------------------\n"
     ]
    },
    {
     "name": "stderr",
     "output_type": "stream",
     "text": [
      "                                                                                                                  \r"
     ]
    },
    {
     "name": "stdout",
     "output_type": "stream",
     "text": [
      "Epoch 129/400:\n",
      "Training Loss: 5423.0938\n",
      "Validation Loss: 5261.0340\n",
      "Validation Accuracy: 4.21%\n",
      "-------------------------\n"
     ]
    },
    {
     "name": "stderr",
     "output_type": "stream",
     "text": [
      "                                                                                                                  \r"
     ]
    },
    {
     "name": "stdout",
     "output_type": "stream",
     "text": [
      "Epoch 130/400:\n",
      "Training Loss: 5422.7425\n",
      "Validation Loss: 5211.2775\n",
      "Validation Accuracy: 4.52%\n",
      "-------------------------\n"
     ]
    },
    {
     "name": "stderr",
     "output_type": "stream",
     "text": [
      "                                                                                                                  \r"
     ]
    },
    {
     "name": "stdout",
     "output_type": "stream",
     "text": [
      "Epoch 131/400:\n",
      "Training Loss: 5404.1190\n",
      "Validation Loss: 5220.1816\n",
      "Validation Accuracy: 3.59%\n",
      "-------------------------\n"
     ]
    },
    {
     "name": "stderr",
     "output_type": "stream",
     "text": [
      "                                                                                                                  \r"
     ]
    },
    {
     "name": "stdout",
     "output_type": "stream",
     "text": [
      "Epoch 132/400:\n",
      "Training Loss: 5394.3827\n",
      "Validation Loss: 5258.4218\n",
      "Validation Accuracy: 3.82%\n",
      "-------------------------\n"
     ]
    },
    {
     "name": "stderr",
     "output_type": "stream",
     "text": [
      "                                                                                                                  \r"
     ]
    },
    {
     "name": "stdout",
     "output_type": "stream",
     "text": [
      "Epoch 133/400:\n",
      "Training Loss: 5374.3274\n",
      "Validation Loss: 5186.2198\n",
      "Validation Accuracy: 4.13%\n",
      "-------------------------\n"
     ]
    },
    {
     "name": "stderr",
     "output_type": "stream",
     "text": [
      "                                                                                                                  \r"
     ]
    },
    {
     "name": "stdout",
     "output_type": "stream",
     "text": [
      "Epoch 134/400:\n",
      "Training Loss: 5409.4565\n",
      "Validation Loss: 5177.7929\n",
      "Validation Accuracy: 3.90%\n",
      "-------------------------\n"
     ]
    },
    {
     "name": "stderr",
     "output_type": "stream",
     "text": [
      "                                                                                                                  \r"
     ]
    },
    {
     "name": "stdout",
     "output_type": "stream",
     "text": [
      "Epoch 135/400:\n",
      "Training Loss: 5362.3942\n",
      "Validation Loss: 5207.6735\n",
      "Validation Accuracy: 3.43%\n",
      "-------------------------\n"
     ]
    },
    {
     "name": "stderr",
     "output_type": "stream",
     "text": [
      "                                                                                                                  \r"
     ]
    },
    {
     "name": "stdout",
     "output_type": "stream",
     "text": [
      "Epoch 136/400:\n",
      "Training Loss: 5394.1008\n",
      "Validation Loss: 5466.0105\n",
      "Validation Accuracy: 4.21%\n",
      "-------------------------\n"
     ]
    },
    {
     "name": "stderr",
     "output_type": "stream",
     "text": [
      "                                                                                                                  \r"
     ]
    },
    {
     "name": "stdout",
     "output_type": "stream",
     "text": [
      "Epoch 137/400:\n",
      "Training Loss: 5360.9349\n",
      "Validation Loss: 5315.5735\n",
      "Validation Accuracy: 3.67%\n",
      "-------------------------\n"
     ]
    },
    {
     "name": "stderr",
     "output_type": "stream",
     "text": [
      "                                                                                                                  \r"
     ]
    },
    {
     "name": "stdout",
     "output_type": "stream",
     "text": [
      "Epoch 138/400:\n",
      "Training Loss: 5332.5906\n",
      "Validation Loss: 5096.9016\n",
      "Validation Accuracy: 3.51%\n",
      "-------------------------\n"
     ]
    },
    {
     "name": "stderr",
     "output_type": "stream",
     "text": [
      "                                                                                                                  \r"
     ]
    },
    {
     "name": "stdout",
     "output_type": "stream",
     "text": [
      "Epoch 139/400:\n",
      "Training Loss: 5355.8994\n",
      "Validation Loss: 5296.9624\n",
      "Validation Accuracy: 3.90%\n",
      "-------------------------\n"
     ]
    },
    {
     "name": "stderr",
     "output_type": "stream",
     "text": [
      "                                                                                                                  \r"
     ]
    },
    {
     "name": "stdout",
     "output_type": "stream",
     "text": [
      "Epoch 140/400:\n",
      "Training Loss: 5341.8171\n",
      "Validation Loss: 5154.6706\n",
      "Validation Accuracy: 3.82%\n",
      "-------------------------\n"
     ]
    },
    {
     "name": "stderr",
     "output_type": "stream",
     "text": [
      "                                                                                                                  \r"
     ]
    },
    {
     "name": "stdout",
     "output_type": "stream",
     "text": [
      "Epoch 141/400:\n",
      "Training Loss: 5303.8654\n",
      "Validation Loss: 5135.0144\n",
      "Validation Accuracy: 3.82%\n",
      "-------------------------\n"
     ]
    },
    {
     "name": "stderr",
     "output_type": "stream",
     "text": [
      "                                                                                                                  \r"
     ]
    },
    {
     "name": "stdout",
     "output_type": "stream",
     "text": [
      "Epoch 142/400:\n",
      "Training Loss: 5301.4261\n",
      "Validation Loss: 5594.9058\n",
      "Validation Accuracy: 3.98%\n",
      "-------------------------\n"
     ]
    },
    {
     "name": "stderr",
     "output_type": "stream",
     "text": [
      "                                                                                                                  \r"
     ]
    },
    {
     "name": "stdout",
     "output_type": "stream",
     "text": [
      "Epoch 143/400:\n",
      "Training Loss: 5297.5174\n",
      "Validation Loss: 5065.3557\n",
      "Validation Accuracy: 4.29%\n",
      "-------------------------\n"
     ]
    },
    {
     "name": "stderr",
     "output_type": "stream",
     "text": [
      "                                                                                                                  \r"
     ]
    },
    {
     "name": "stdout",
     "output_type": "stream",
     "text": [
      "Epoch 144/400:\n",
      "Training Loss: 5280.8718\n",
      "Validation Loss: 5134.9216\n",
      "Validation Accuracy: 4.29%\n",
      "-------------------------\n"
     ]
    },
    {
     "name": "stderr",
     "output_type": "stream",
     "text": [
      "                                                                                                                  \r"
     ]
    },
    {
     "name": "stdout",
     "output_type": "stream",
     "text": [
      "Epoch 145/400:\n",
      "Training Loss: 5290.8798\n",
      "Validation Loss: 5124.0691\n",
      "Validation Accuracy: 3.35%\n",
      "-------------------------\n"
     ]
    },
    {
     "name": "stderr",
     "output_type": "stream",
     "text": [
      "                                                                                                                  \r"
     ]
    },
    {
     "name": "stdout",
     "output_type": "stream",
     "text": [
      "Epoch 146/400:\n",
      "Training Loss: 5261.6286\n",
      "Validation Loss: 5065.4025\n",
      "Validation Accuracy: 3.51%\n",
      "-------------------------\n"
     ]
    },
    {
     "name": "stderr",
     "output_type": "stream",
     "text": [
      "                                                                                                                  \r"
     ]
    },
    {
     "name": "stdout",
     "output_type": "stream",
     "text": [
      "Epoch 147/400:\n",
      "Training Loss: 5263.6957\n",
      "Validation Loss: 5020.9039\n",
      "Validation Accuracy: 4.52%\n",
      "-------------------------\n"
     ]
    },
    {
     "name": "stderr",
     "output_type": "stream",
     "text": [
      "                                                                                                                  \r"
     ]
    },
    {
     "name": "stdout",
     "output_type": "stream",
     "text": [
      "Epoch 148/400:\n",
      "Training Loss: 5227.7045\n",
      "Validation Loss: 5236.2976\n",
      "Validation Accuracy: 3.74%\n",
      "-------------------------\n"
     ]
    },
    {
     "name": "stderr",
     "output_type": "stream",
     "text": [
      "                                                                                                                  \r"
     ]
    },
    {
     "name": "stdout",
     "output_type": "stream",
     "text": [
      "Epoch 149/400:\n",
      "Training Loss: 5236.5473\n",
      "Validation Loss: 5885.8234\n",
      "Validation Accuracy: 3.51%\n",
      "-------------------------\n"
     ]
    },
    {
     "name": "stderr",
     "output_type": "stream",
     "text": [
      "                                                                                                                  \r"
     ]
    },
    {
     "name": "stdout",
     "output_type": "stream",
     "text": [
      "Epoch 150/400:\n",
      "Training Loss: 5225.9807\n",
      "Validation Loss: 5112.9660\n",
      "Validation Accuracy: 3.67%\n",
      "-------------------------\n"
     ]
    },
    {
     "name": "stderr",
     "output_type": "stream",
     "text": [
      "                                                                                                                  \r"
     ]
    },
    {
     "name": "stdout",
     "output_type": "stream",
     "text": [
      "Epoch 151/400:\n",
      "Training Loss: 5208.3414\n",
      "Validation Loss: 4983.9753\n",
      "Validation Accuracy: 4.37%\n",
      "-------------------------\n"
     ]
    },
    {
     "name": "stderr",
     "output_type": "stream",
     "text": [
      "                                                                                                                  \r"
     ]
    },
    {
     "name": "stdout",
     "output_type": "stream",
     "text": [
      "Epoch 152/400:\n",
      "Training Loss: 5194.0991\n",
      "Validation Loss: 4992.2985\n",
      "Validation Accuracy: 4.29%\n",
      "-------------------------\n"
     ]
    },
    {
     "name": "stderr",
     "output_type": "stream",
     "text": [
      "                                                                                                                  \r"
     ]
    },
    {
     "name": "stdout",
     "output_type": "stream",
     "text": [
      "Epoch 153/400:\n",
      "Training Loss: 5185.3738\n",
      "Validation Loss: 4977.3639\n",
      "Validation Accuracy: 4.06%\n",
      "-------------------------\n"
     ]
    },
    {
     "name": "stderr",
     "output_type": "stream",
     "text": [
      "                                                                                                                  \r"
     ]
    },
    {
     "name": "stdout",
     "output_type": "stream",
     "text": [
      "Epoch 154/400:\n",
      "Training Loss: 5203.2841\n",
      "Validation Loss: 5107.3834\n",
      "Validation Accuracy: 3.98%\n",
      "-------------------------\n"
     ]
    },
    {
     "name": "stderr",
     "output_type": "stream",
     "text": [
      "                                                                                                                  \r"
     ]
    },
    {
     "name": "stdout",
     "output_type": "stream",
     "text": [
      "Epoch 155/400:\n",
      "Training Loss: 5163.2471\n",
      "Validation Loss: 4978.8883\n",
      "Validation Accuracy: 3.82%\n",
      "-------------------------\n"
     ]
    },
    {
     "name": "stderr",
     "output_type": "stream",
     "text": [
      "                                                                                                                  \r"
     ]
    },
    {
     "name": "stdout",
     "output_type": "stream",
     "text": [
      "Epoch 156/400:\n",
      "Training Loss: 5159.9206\n",
      "Validation Loss: 4936.2554\n",
      "Validation Accuracy: 4.21%\n",
      "-------------------------\n"
     ]
    },
    {
     "name": "stderr",
     "output_type": "stream",
     "text": [
      "                                                                                                                  \r"
     ]
    },
    {
     "name": "stdout",
     "output_type": "stream",
     "text": [
      "Epoch 157/400:\n",
      "Training Loss: 5166.0222\n",
      "Validation Loss: 5153.9041\n",
      "Validation Accuracy: 4.37%\n",
      "-------------------------\n"
     ]
    },
    {
     "name": "stderr",
     "output_type": "stream",
     "text": [
      "                                                                                                                  \r"
     ]
    },
    {
     "name": "stdout",
     "output_type": "stream",
     "text": [
      "Epoch 158/400:\n",
      "Training Loss: 5172.1424\n",
      "Validation Loss: 4950.1964\n",
      "Validation Accuracy: 3.98%\n",
      "-------------------------\n"
     ]
    },
    {
     "name": "stderr",
     "output_type": "stream",
     "text": [
      "                                                                                                                  \r"
     ]
    },
    {
     "name": "stdout",
     "output_type": "stream",
     "text": [
      "Epoch 159/400:\n",
      "Training Loss: 5185.9079\n",
      "Validation Loss: 4927.6760\n",
      "Validation Accuracy: 3.59%\n",
      "-------------------------\n"
     ]
    },
    {
     "name": "stderr",
     "output_type": "stream",
     "text": [
      "                                                                                                                  \r"
     ]
    },
    {
     "name": "stdout",
     "output_type": "stream",
     "text": [
      "Epoch 160/400:\n",
      "Training Loss: 5156.5118\n",
      "Validation Loss: 4925.2662\n",
      "Validation Accuracy: 3.28%\n",
      "-------------------------\n"
     ]
    },
    {
     "name": "stderr",
     "output_type": "stream",
     "text": [
      "                                                                                                                  \r"
     ]
    },
    {
     "name": "stdout",
     "output_type": "stream",
     "text": [
      "Epoch 161/400:\n",
      "Training Loss: 5127.4199\n",
      "Validation Loss: 4918.9118\n",
      "Validation Accuracy: 3.74%\n",
      "-------------------------\n"
     ]
    },
    {
     "name": "stderr",
     "output_type": "stream",
     "text": [
      "                                                                                                                  \r"
     ]
    },
    {
     "name": "stdout",
     "output_type": "stream",
     "text": [
      "Epoch 162/400:\n",
      "Training Loss: 5127.0699\n",
      "Validation Loss: 5050.3844\n",
      "Validation Accuracy: 4.06%\n",
      "-------------------------\n"
     ]
    },
    {
     "name": "stderr",
     "output_type": "stream",
     "text": [
      "                                                                                                                  \r"
     ]
    },
    {
     "name": "stdout",
     "output_type": "stream",
     "text": [
      "Epoch 163/400:\n",
      "Training Loss: 5138.7775\n",
      "Validation Loss: 4884.8380\n",
      "Validation Accuracy: 3.74%\n",
      "-------------------------\n"
     ]
    },
    {
     "name": "stderr",
     "output_type": "stream",
     "text": [
      "                                                                                                                  \r"
     ]
    },
    {
     "name": "stdout",
     "output_type": "stream",
     "text": [
      "Epoch 164/400:\n",
      "Training Loss: 5138.8409\n",
      "Validation Loss: 4914.9298\n",
      "Validation Accuracy: 3.51%\n",
      "-------------------------\n"
     ]
    },
    {
     "name": "stderr",
     "output_type": "stream",
     "text": [
      "                                                                                                                  \r"
     ]
    },
    {
     "name": "stdout",
     "output_type": "stream",
     "text": [
      "Epoch 165/400:\n",
      "Training Loss: 5104.5010\n",
      "Validation Loss: 4945.9001\n",
      "Validation Accuracy: 3.82%\n",
      "-------------------------\n"
     ]
    },
    {
     "name": "stderr",
     "output_type": "stream",
     "text": [
      "                                                                                                                  \r"
     ]
    },
    {
     "name": "stdout",
     "output_type": "stream",
     "text": [
      "Epoch 166/400:\n",
      "Training Loss: 5083.4108\n",
      "Validation Loss: 4874.8196\n",
      "Validation Accuracy: 4.06%\n",
      "-------------------------\n"
     ]
    },
    {
     "name": "stderr",
     "output_type": "stream",
     "text": [
      "                                                                                                                  \r"
     ]
    },
    {
     "name": "stdout",
     "output_type": "stream",
     "text": [
      "Epoch 167/400:\n",
      "Training Loss: 5086.3011\n",
      "Validation Loss: 4827.1621\n",
      "Validation Accuracy: 4.13%\n",
      "-------------------------\n"
     ]
    },
    {
     "name": "stderr",
     "output_type": "stream",
     "text": [
      "                                                                                                                  \r"
     ]
    },
    {
     "name": "stdout",
     "output_type": "stream",
     "text": [
      "Epoch 168/400:\n",
      "Training Loss: 5076.1890\n",
      "Validation Loss: 4940.5003\n",
      "Validation Accuracy: 3.28%\n",
      "-------------------------\n"
     ]
    },
    {
     "name": "stderr",
     "output_type": "stream",
     "text": [
      "                                                                                                                  \r"
     ]
    },
    {
     "name": "stdout",
     "output_type": "stream",
     "text": [
      "Epoch 169/400:\n",
      "Training Loss: 5062.6080\n",
      "Validation Loss: 4828.6865\n",
      "Validation Accuracy: 3.74%\n",
      "-------------------------\n"
     ]
    },
    {
     "name": "stderr",
     "output_type": "stream",
     "text": [
      "                                                                                                                  \r"
     ]
    },
    {
     "name": "stdout",
     "output_type": "stream",
     "text": [
      "Epoch 170/400:\n",
      "Training Loss: 5015.7245\n",
      "Validation Loss: 4885.2286\n",
      "Validation Accuracy: 3.74%\n",
      "-------------------------\n"
     ]
    },
    {
     "name": "stderr",
     "output_type": "stream",
     "text": [
      "                                                                                                                  \r"
     ]
    },
    {
     "name": "stdout",
     "output_type": "stream",
     "text": [
      "Epoch 171/400:\n",
      "Training Loss: 5024.0430\n",
      "Validation Loss: 4806.9556\n",
      "Validation Accuracy: 4.06%\n",
      "-------------------------\n"
     ]
    },
    {
     "name": "stderr",
     "output_type": "stream",
     "text": [
      "                                                                                                                  \r"
     ]
    },
    {
     "name": "stdout",
     "output_type": "stream",
     "text": [
      "Epoch 172/400:\n",
      "Training Loss: 5014.6820\n",
      "Validation Loss: 4890.6366\n",
      "Validation Accuracy: 3.98%\n",
      "-------------------------\n"
     ]
    },
    {
     "name": "stderr",
     "output_type": "stream",
     "text": [
      "                                                                                                                  \r"
     ]
    },
    {
     "name": "stdout",
     "output_type": "stream",
     "text": [
      "Epoch 173/400:\n",
      "Training Loss: 5035.7540\n",
      "Validation Loss: 4848.2673\n",
      "Validation Accuracy: 3.90%\n",
      "-------------------------\n"
     ]
    },
    {
     "name": "stderr",
     "output_type": "stream",
     "text": [
      "                                                                                                                  \r"
     ]
    },
    {
     "name": "stdout",
     "output_type": "stream",
     "text": [
      "Epoch 174/400:\n",
      "Training Loss: 5029.4112\n",
      "Validation Loss: 4769.2307\n",
      "Validation Accuracy: 4.21%\n",
      "-------------------------\n"
     ]
    },
    {
     "name": "stderr",
     "output_type": "stream",
     "text": [
      "                                                                                                                  \r"
     ]
    },
    {
     "name": "stdout",
     "output_type": "stream",
     "text": [
      "Epoch 175/400:\n",
      "Training Loss: 4982.6281\n",
      "Validation Loss: 4758.3818\n",
      "Validation Accuracy: 3.82%\n",
      "-------------------------\n"
     ]
    },
    {
     "name": "stderr",
     "output_type": "stream",
     "text": [
      "                                                                                                                  \r"
     ]
    },
    {
     "name": "stdout",
     "output_type": "stream",
     "text": [
      "Epoch 176/400:\n",
      "Training Loss: 4976.5030\n",
      "Validation Loss: 4970.3251\n",
      "Validation Accuracy: 3.67%\n",
      "-------------------------\n"
     ]
    },
    {
     "name": "stderr",
     "output_type": "stream",
     "text": [
      "                                                                                                                  \r"
     ]
    },
    {
     "name": "stdout",
     "output_type": "stream",
     "text": [
      "Epoch 177/400:\n",
      "Training Loss: 4984.2714\n",
      "Validation Loss: 4736.9912\n",
      "Validation Accuracy: 4.13%\n",
      "-------------------------\n"
     ]
    },
    {
     "name": "stderr",
     "output_type": "stream",
     "text": [
      "                                                                                                                  \r"
     ]
    },
    {
     "name": "stdout",
     "output_type": "stream",
     "text": [
      "Epoch 178/400:\n",
      "Training Loss: 4972.4224\n",
      "Validation Loss: 4868.1180\n",
      "Validation Accuracy: 3.74%\n",
      "-------------------------\n"
     ]
    },
    {
     "name": "stderr",
     "output_type": "stream",
     "text": [
      "                                                                                                                  \r"
     ]
    },
    {
     "name": "stdout",
     "output_type": "stream",
     "text": [
      "Epoch 179/400:\n",
      "Training Loss: 4989.5179\n",
      "Validation Loss: 4724.9726\n",
      "Validation Accuracy: 4.06%\n",
      "-------------------------\n"
     ]
    },
    {
     "name": "stderr",
     "output_type": "stream",
     "text": [
      "                                                                                                                  \r"
     ]
    },
    {
     "name": "stdout",
     "output_type": "stream",
     "text": [
      "Epoch 180/400:\n",
      "Training Loss: 4942.4488\n",
      "Validation Loss: 4712.1547\n",
      "Validation Accuracy: 3.74%\n",
      "-------------------------\n"
     ]
    },
    {
     "name": "stderr",
     "output_type": "stream",
     "text": [
      "                                                                                                                  \r"
     ]
    },
    {
     "name": "stdout",
     "output_type": "stream",
     "text": [
      "Epoch 181/400:\n",
      "Training Loss: 4953.4647\n",
      "Validation Loss: 4737.8385\n",
      "Validation Accuracy: 4.29%\n",
      "-------------------------\n"
     ]
    },
    {
     "name": "stderr",
     "output_type": "stream",
     "text": [
      "                                                                                                                  \r"
     ]
    },
    {
     "name": "stdout",
     "output_type": "stream",
     "text": [
      "Epoch 182/400:\n",
      "Training Loss: 4937.2243\n",
      "Validation Loss: 4882.2381\n",
      "Validation Accuracy: 4.06%\n",
      "-------------------------\n"
     ]
    },
    {
     "name": "stderr",
     "output_type": "stream",
     "text": [
      "                                                                                                                  \r"
     ]
    },
    {
     "name": "stdout",
     "output_type": "stream",
     "text": [
      "Epoch 183/400:\n",
      "Training Loss: 4935.4216\n",
      "Validation Loss: 4833.6978\n",
      "Validation Accuracy: 3.90%\n",
      "-------------------------\n"
     ]
    },
    {
     "name": "stderr",
     "output_type": "stream",
     "text": [
      "                                                                                                                  \r"
     ]
    },
    {
     "name": "stdout",
     "output_type": "stream",
     "text": [
      "Epoch 184/400:\n",
      "Training Loss: 4933.3211\n",
      "Validation Loss: 4720.6418\n",
      "Validation Accuracy: 3.67%\n",
      "-------------------------\n"
     ]
    },
    {
     "name": "stderr",
     "output_type": "stream",
     "text": [
      "                                                                                                                  \r"
     ]
    },
    {
     "name": "stdout",
     "output_type": "stream",
     "text": [
      "Epoch 185/400:\n",
      "Training Loss: 4916.6812\n",
      "Validation Loss: 5013.2043\n",
      "Validation Accuracy: 3.90%\n",
      "-------------------------\n"
     ]
    },
    {
     "name": "stderr",
     "output_type": "stream",
     "text": [
      "                                                                                                                  \r"
     ]
    },
    {
     "name": "stdout",
     "output_type": "stream",
     "text": [
      "Epoch 186/400:\n",
      "Training Loss: 4941.2425\n",
      "Validation Loss: 4814.4557\n",
      "Validation Accuracy: 3.43%\n",
      "-------------------------\n"
     ]
    },
    {
     "name": "stderr",
     "output_type": "stream",
     "text": [
      "                                                                                                                  \r"
     ]
    },
    {
     "name": "stdout",
     "output_type": "stream",
     "text": [
      "Epoch 187/400:\n",
      "Training Loss: 4915.3215\n",
      "Validation Loss: 4725.5379\n",
      "Validation Accuracy: 4.06%\n",
      "-------------------------\n"
     ]
    },
    {
     "name": "stderr",
     "output_type": "stream",
     "text": [
      "                                                                                                                  \r"
     ]
    },
    {
     "name": "stdout",
     "output_type": "stream",
     "text": [
      "Epoch 188/400:\n",
      "Training Loss: 4924.9405\n",
      "Validation Loss: 4808.2324\n",
      "Validation Accuracy: 4.60%\n",
      "-------------------------\n"
     ]
    },
    {
     "name": "stderr",
     "output_type": "stream",
     "text": [
      "                                                                                                                  \r"
     ]
    },
    {
     "name": "stdout",
     "output_type": "stream",
     "text": [
      "Epoch 189/400:\n",
      "Training Loss: 4916.1138\n",
      "Validation Loss: 5117.9603\n",
      "Validation Accuracy: 3.90%\n",
      "-------------------------\n"
     ]
    },
    {
     "name": "stderr",
     "output_type": "stream",
     "text": [
      "                                                                                                                  \r"
     ]
    },
    {
     "name": "stdout",
     "output_type": "stream",
     "text": [
      "Epoch 190/400:\n",
      "Training Loss: 4949.1054\n",
      "Validation Loss: 4746.8615\n",
      "Validation Accuracy: 4.37%\n",
      "-------------------------\n"
     ]
    },
    {
     "name": "stderr",
     "output_type": "stream",
     "text": [
      "                                                                                                                  \r"
     ]
    },
    {
     "name": "stdout",
     "output_type": "stream",
     "text": [
      "Epoch 191/400:\n",
      "Training Loss: 4889.3719\n",
      "Validation Loss: 4814.9119\n",
      "Validation Accuracy: 3.98%\n",
      "-------------------------\n"
     ]
    },
    {
     "name": "stderr",
     "output_type": "stream",
     "text": [
      "                                                                                                                  \r"
     ]
    },
    {
     "name": "stdout",
     "output_type": "stream",
     "text": [
      "Epoch 192/400:\n",
      "Training Loss: 4885.0051\n",
      "Validation Loss: 4635.3211\n",
      "Validation Accuracy: 3.98%\n",
      "-------------------------\n"
     ]
    },
    {
     "name": "stderr",
     "output_type": "stream",
     "text": [
      "                                                                                                                  \r"
     ]
    },
    {
     "name": "stdout",
     "output_type": "stream",
     "text": [
      "Epoch 193/400:\n",
      "Training Loss: 4876.5774\n",
      "Validation Loss: 4667.7626\n",
      "Validation Accuracy: 3.90%\n",
      "-------------------------\n"
     ]
    },
    {
     "name": "stderr",
     "output_type": "stream",
     "text": [
      "                                                                                                                  \r"
     ]
    },
    {
     "name": "stdout",
     "output_type": "stream",
     "text": [
      "Epoch 194/400:\n",
      "Training Loss: 4867.5950\n",
      "Validation Loss: 4673.9152\n",
      "Validation Accuracy: 4.29%\n",
      "-------------------------\n"
     ]
    },
    {
     "name": "stderr",
     "output_type": "stream",
     "text": [
      "                                                                                                                  \r"
     ]
    },
    {
     "name": "stdout",
     "output_type": "stream",
     "text": [
      "Epoch 195/400:\n",
      "Training Loss: 4890.6292\n",
      "Validation Loss: 4668.5669\n",
      "Validation Accuracy: 3.82%\n",
      "-------------------------\n"
     ]
    },
    {
     "name": "stderr",
     "output_type": "stream",
     "text": [
      "                                                                                                                  \r"
     ]
    },
    {
     "name": "stdout",
     "output_type": "stream",
     "text": [
      "Epoch 196/400:\n",
      "Training Loss: 4850.7522\n",
      "Validation Loss: 4646.0031\n",
      "Validation Accuracy: 3.82%\n",
      "-------------------------\n"
     ]
    },
    {
     "name": "stderr",
     "output_type": "stream",
     "text": [
      "                                                                                                                  \r"
     ]
    },
    {
     "name": "stdout",
     "output_type": "stream",
     "text": [
      "Epoch 197/400:\n",
      "Training Loss: 4828.9712\n",
      "Validation Loss: 4656.0735\n",
      "Validation Accuracy: 3.90%\n",
      "-------------------------\n"
     ]
    },
    {
     "name": "stderr",
     "output_type": "stream",
     "text": [
      "                                                                                                                  \r"
     ]
    },
    {
     "name": "stdout",
     "output_type": "stream",
     "text": [
      "Epoch 198/400:\n",
      "Training Loss: 4888.5011\n",
      "Validation Loss: 4767.4479\n",
      "Validation Accuracy: 4.21%\n",
      "-------------------------\n"
     ]
    },
    {
     "name": "stderr",
     "output_type": "stream",
     "text": [
      "                                                                                                                  \r"
     ]
    },
    {
     "name": "stdout",
     "output_type": "stream",
     "text": [
      "Epoch 199/400:\n",
      "Training Loss: 4853.1265\n",
      "Validation Loss: 4609.7696\n",
      "Validation Accuracy: 3.67%\n",
      "-------------------------\n"
     ]
    },
    {
     "name": "stderr",
     "output_type": "stream",
     "text": [
      "                                                                                                                  \r"
     ]
    },
    {
     "name": "stdout",
     "output_type": "stream",
     "text": [
      "Epoch 200/400:\n",
      "Training Loss: 4815.8149\n",
      "Validation Loss: 5029.9917\n",
      "Validation Accuracy: 3.35%\n",
      "-------------------------\n"
     ]
    },
    {
     "name": "stderr",
     "output_type": "stream",
     "text": [
      "                                                                                                                  \r"
     ]
    },
    {
     "name": "stdout",
     "output_type": "stream",
     "text": [
      "Epoch 201/400:\n",
      "Training Loss: 4847.7547\n",
      "Validation Loss: 4757.4497\n",
      "Validation Accuracy: 3.82%\n",
      "-------------------------\n"
     ]
    },
    {
     "name": "stderr",
     "output_type": "stream",
     "text": [
      "                                                                                                                  \r"
     ]
    },
    {
     "name": "stdout",
     "output_type": "stream",
     "text": [
      "Epoch 202/400:\n",
      "Training Loss: 4854.3557\n",
      "Validation Loss: 4765.5076\n",
      "Validation Accuracy: 3.90%\n",
      "-------------------------\n"
     ]
    },
    {
     "name": "stderr",
     "output_type": "stream",
     "text": [
      "                                                                                                                  \r"
     ]
    },
    {
     "name": "stdout",
     "output_type": "stream",
     "text": [
      "Epoch 203/400:\n",
      "Training Loss: 4841.0819\n",
      "Validation Loss: 4603.1205\n",
      "Validation Accuracy: 4.29%\n",
      "-------------------------\n"
     ]
    },
    {
     "name": "stderr",
     "output_type": "stream",
     "text": [
      "                                                                                                                  \r"
     ]
    },
    {
     "name": "stdout",
     "output_type": "stream",
     "text": [
      "Epoch 204/400:\n",
      "Training Loss: 4796.0722\n",
      "Validation Loss: 4608.6764\n",
      "Validation Accuracy: 4.37%\n",
      "-------------------------\n"
     ]
    },
    {
     "name": "stderr",
     "output_type": "stream",
     "text": [
      "                                                                                                                  \r"
     ]
    },
    {
     "name": "stdout",
     "output_type": "stream",
     "text": [
      "Epoch 205/400:\n",
      "Training Loss: 4816.6227\n",
      "Validation Loss: 4667.4513\n",
      "Validation Accuracy: 4.21%\n",
      "-------------------------\n"
     ]
    },
    {
     "name": "stderr",
     "output_type": "stream",
     "text": [
      "                                                                                                                  \r"
     ]
    },
    {
     "name": "stdout",
     "output_type": "stream",
     "text": [
      "Epoch 206/400:\n",
      "Training Loss: 4798.0582\n",
      "Validation Loss: 4545.9112\n",
      "Validation Accuracy: 4.13%\n",
      "-------------------------\n"
     ]
    },
    {
     "name": "stderr",
     "output_type": "stream",
     "text": [
      "                                                                                                                  \r"
     ]
    },
    {
     "name": "stdout",
     "output_type": "stream",
     "text": [
      "Epoch 207/400:\n",
      "Training Loss: 4783.9217\n",
      "Validation Loss: 4547.0583\n",
      "Validation Accuracy: 3.59%\n",
      "-------------------------\n"
     ]
    },
    {
     "name": "stderr",
     "output_type": "stream",
     "text": [
      "                                                                                                                  \r"
     ]
    },
    {
     "name": "stdout",
     "output_type": "stream",
     "text": [
      "Epoch 208/400:\n",
      "Training Loss: 4788.6140\n",
      "Validation Loss: 4599.6786\n",
      "Validation Accuracy: 3.82%\n",
      "-------------------------\n"
     ]
    },
    {
     "name": "stderr",
     "output_type": "stream",
     "text": [
      "                                                                                                                  \r"
     ]
    },
    {
     "name": "stdout",
     "output_type": "stream",
     "text": [
      "Epoch 209/400:\n",
      "Training Loss: 4785.0315\n",
      "Validation Loss: 4666.0843\n",
      "Validation Accuracy: 3.90%\n",
      "-------------------------\n"
     ]
    },
    {
     "name": "stderr",
     "output_type": "stream",
     "text": [
      "                                                                                                                  \r"
     ]
    },
    {
     "name": "stdout",
     "output_type": "stream",
     "text": [
      "Epoch 210/400:\n",
      "Training Loss: 4787.8277\n",
      "Validation Loss: 4544.4342\n",
      "Validation Accuracy: 4.29%\n",
      "-------------------------\n"
     ]
    },
    {
     "name": "stderr",
     "output_type": "stream",
     "text": [
      "                                                                                                                  \r"
     ]
    },
    {
     "name": "stdout",
     "output_type": "stream",
     "text": [
      "Epoch 211/400:\n",
      "Training Loss: 4761.2451\n",
      "Validation Loss: 4565.1209\n",
      "Validation Accuracy: 4.52%\n",
      "-------------------------\n"
     ]
    },
    {
     "name": "stderr",
     "output_type": "stream",
     "text": [
      "                                                                                                                  \r"
     ]
    },
    {
     "name": "stdout",
     "output_type": "stream",
     "text": [
      "Epoch 212/400:\n",
      "Training Loss: 4778.6562\n",
      "Validation Loss: 4571.4164\n",
      "Validation Accuracy: 4.37%\n",
      "-------------------------\n"
     ]
    },
    {
     "name": "stderr",
     "output_type": "stream",
     "text": [
      "                                                                                                                  \r"
     ]
    },
    {
     "name": "stdout",
     "output_type": "stream",
     "text": [
      "Epoch 213/400:\n",
      "Training Loss: 4772.4689\n",
      "Validation Loss: 4553.5540\n",
      "Validation Accuracy: 3.90%\n",
      "-------------------------\n"
     ]
    },
    {
     "name": "stderr",
     "output_type": "stream",
     "text": [
      "                                                                                                                  \r"
     ]
    },
    {
     "name": "stdout",
     "output_type": "stream",
     "text": [
      "Epoch 214/400:\n",
      "Training Loss: 4768.6574\n",
      "Validation Loss: 4762.1803\n",
      "Validation Accuracy: 3.67%\n",
      "-------------------------\n"
     ]
    },
    {
     "name": "stderr",
     "output_type": "stream",
     "text": [
      "                                                                                                                  \r"
     ]
    },
    {
     "name": "stdout",
     "output_type": "stream",
     "text": [
      "Epoch 215/400:\n",
      "Training Loss: 4753.4723\n",
      "Validation Loss: 4571.5925\n",
      "Validation Accuracy: 4.21%\n",
      "-------------------------\n"
     ]
    },
    {
     "name": "stderr",
     "output_type": "stream",
     "text": [
      "                                                                                                                  \r"
     ]
    },
    {
     "name": "stdout",
     "output_type": "stream",
     "text": [
      "Epoch 216/400:\n",
      "Training Loss: 4743.7660\n",
      "Validation Loss: 4604.9044\n",
      "Validation Accuracy: 3.82%\n",
      "-------------------------\n"
     ]
    },
    {
     "name": "stderr",
     "output_type": "stream",
     "text": [
      "                                                                                                                  \r"
     ]
    },
    {
     "name": "stdout",
     "output_type": "stream",
     "text": [
      "Epoch 217/400:\n",
      "Training Loss: 4829.4575\n",
      "Validation Loss: 4481.4431\n",
      "Validation Accuracy: 3.90%\n",
      "-------------------------\n"
     ]
    },
    {
     "name": "stderr",
     "output_type": "stream",
     "text": [
      "                                                                                                                  \r"
     ]
    },
    {
     "name": "stdout",
     "output_type": "stream",
     "text": [
      "Epoch 218/400:\n",
      "Training Loss: 4775.0957\n",
      "Validation Loss: 4484.8465\n",
      "Validation Accuracy: 4.13%\n",
      "-------------------------\n"
     ]
    },
    {
     "name": "stderr",
     "output_type": "stream",
     "text": [
      "                                                                                                                  \r"
     ]
    },
    {
     "name": "stdout",
     "output_type": "stream",
     "text": [
      "Epoch 219/400:\n",
      "Training Loss: 4718.6248\n",
      "Validation Loss: 4521.4622\n",
      "Validation Accuracy: 4.45%\n",
      "-------------------------\n"
     ]
    },
    {
     "name": "stderr",
     "output_type": "stream",
     "text": [
      "                                                                                                                  \r"
     ]
    },
    {
     "name": "stdout",
     "output_type": "stream",
     "text": [
      "Epoch 220/400:\n",
      "Training Loss: 4737.0244\n",
      "Validation Loss: 4515.4910\n",
      "Validation Accuracy: 3.98%\n",
      "-------------------------\n"
     ]
    },
    {
     "name": "stderr",
     "output_type": "stream",
     "text": [
      "                                                                                                                  \r"
     ]
    },
    {
     "name": "stdout",
     "output_type": "stream",
     "text": [
      "Epoch 221/400:\n",
      "Training Loss: 4716.2267\n",
      "Validation Loss: 4460.3399\n",
      "Validation Accuracy: 3.82%\n",
      "-------------------------\n"
     ]
    },
    {
     "name": "stderr",
     "output_type": "stream",
     "text": [
      "                                                                                                                  \r"
     ]
    },
    {
     "name": "stdout",
     "output_type": "stream",
     "text": [
      "Epoch 222/400:\n",
      "Training Loss: 4729.1977\n",
      "Validation Loss: 4519.5953\n",
      "Validation Accuracy: 3.74%\n",
      "-------------------------\n"
     ]
    },
    {
     "name": "stderr",
     "output_type": "stream",
     "text": [
      "                                                                                                                  \r"
     ]
    },
    {
     "name": "stdout",
     "output_type": "stream",
     "text": [
      "Epoch 223/400:\n",
      "Training Loss: 4700.8035\n",
      "Validation Loss: 4683.2592\n",
      "Validation Accuracy: 3.67%\n",
      "-------------------------\n"
     ]
    },
    {
     "name": "stderr",
     "output_type": "stream",
     "text": [
      "                                                                                                                  \r"
     ]
    },
    {
     "name": "stdout",
     "output_type": "stream",
     "text": [
      "Epoch 224/400:\n",
      "Training Loss: 4706.7786\n",
      "Validation Loss: 4574.2661\n",
      "Validation Accuracy: 3.74%\n",
      "-------------------------\n"
     ]
    },
    {
     "name": "stderr",
     "output_type": "stream",
     "text": [
      "                                                                                                                  \r"
     ]
    },
    {
     "name": "stdout",
     "output_type": "stream",
     "text": [
      "Epoch 225/400:\n",
      "Training Loss: 4706.3186\n",
      "Validation Loss: 4533.3222\n",
      "Validation Accuracy: 3.74%\n",
      "-------------------------\n"
     ]
    },
    {
     "name": "stderr",
     "output_type": "stream",
     "text": [
      "                                                                                                                  \r"
     ]
    },
    {
     "name": "stdout",
     "output_type": "stream",
     "text": [
      "Epoch 226/400:\n",
      "Training Loss: 4703.2114\n",
      "Validation Loss: 4407.5319\n",
      "Validation Accuracy: 3.98%\n",
      "-------------------------\n"
     ]
    },
    {
     "name": "stderr",
     "output_type": "stream",
     "text": [
      "                                                                                                                  \r"
     ]
    },
    {
     "name": "stdout",
     "output_type": "stream",
     "text": [
      "Epoch 227/400:\n",
      "Training Loss: 4692.7500\n",
      "Validation Loss: 4500.4192\n",
      "Validation Accuracy: 4.21%\n",
      "-------------------------\n"
     ]
    },
    {
     "name": "stderr",
     "output_type": "stream",
     "text": [
      "                                                                                                                  \r"
     ]
    },
    {
     "name": "stdout",
     "output_type": "stream",
     "text": [
      "Epoch 228/400:\n",
      "Training Loss: 4698.0374\n",
      "Validation Loss: 4535.6978\n",
      "Validation Accuracy: 3.90%\n",
      "-------------------------\n"
     ]
    },
    {
     "name": "stderr",
     "output_type": "stream",
     "text": [
      "                                                                                                                  \r"
     ]
    },
    {
     "name": "stdout",
     "output_type": "stream",
     "text": [
      "Epoch 229/400:\n",
      "Training Loss: 4663.0917\n",
      "Validation Loss: 4543.9557\n",
      "Validation Accuracy: 3.51%\n",
      "-------------------------\n"
     ]
    },
    {
     "name": "stderr",
     "output_type": "stream",
     "text": [
      "                                                                                                                  \r"
     ]
    },
    {
     "name": "stdout",
     "output_type": "stream",
     "text": [
      "Epoch 230/400:\n",
      "Training Loss: 4702.2338\n",
      "Validation Loss: 4417.8238\n",
      "Validation Accuracy: 4.29%\n",
      "-------------------------\n"
     ]
    },
    {
     "name": "stderr",
     "output_type": "stream",
     "text": [
      "                                                                                                                  \r"
     ]
    },
    {
     "name": "stdout",
     "output_type": "stream",
     "text": [
      "Epoch 231/400:\n",
      "Training Loss: 4653.7479\n",
      "Validation Loss: 4435.7901\n",
      "Validation Accuracy: 3.90%\n",
      "-------------------------\n"
     ]
    },
    {
     "name": "stderr",
     "output_type": "stream",
     "text": [
      "                                                                                                                  \r"
     ]
    },
    {
     "name": "stdout",
     "output_type": "stream",
     "text": [
      "Epoch 232/400:\n",
      "Training Loss: 4661.3681\n",
      "Validation Loss: 4551.6712\n",
      "Validation Accuracy: 3.90%\n",
      "-------------------------\n"
     ]
    },
    {
     "name": "stderr",
     "output_type": "stream",
     "text": [
      "                                                                                                                  \r"
     ]
    },
    {
     "name": "stdout",
     "output_type": "stream",
     "text": [
      "Epoch 233/400:\n",
      "Training Loss: 4674.4439\n",
      "Validation Loss: 4461.8320\n",
      "Validation Accuracy: 3.74%\n",
      "-------------------------\n"
     ]
    },
    {
     "name": "stderr",
     "output_type": "stream",
     "text": [
      "                                                                                                                  \r"
     ]
    },
    {
     "name": "stdout",
     "output_type": "stream",
     "text": [
      "Epoch 234/400:\n",
      "Training Loss: 4644.8720\n",
      "Validation Loss: 4477.9737\n",
      "Validation Accuracy: 4.45%\n",
      "-------------------------\n"
     ]
    },
    {
     "name": "stderr",
     "output_type": "stream",
     "text": [
      "                                                                                                                  \r"
     ]
    },
    {
     "name": "stdout",
     "output_type": "stream",
     "text": [
      "Epoch 235/400:\n",
      "Training Loss: 4639.0657\n",
      "Validation Loss: 4444.8914\n",
      "Validation Accuracy: 3.59%\n",
      "-------------------------\n"
     ]
    },
    {
     "name": "stderr",
     "output_type": "stream",
     "text": [
      "                                                                                                                  \r"
     ]
    },
    {
     "name": "stdout",
     "output_type": "stream",
     "text": [
      "Epoch 236/400:\n",
      "Training Loss: 4622.9015\n",
      "Validation Loss: 4380.5428\n",
      "Validation Accuracy: 4.29%\n",
      "-------------------------\n"
     ]
    },
    {
     "name": "stderr",
     "output_type": "stream",
     "text": [
      "                                                                                                                  \r"
     ]
    },
    {
     "name": "stdout",
     "output_type": "stream",
     "text": [
      "Epoch 237/400:\n",
      "Training Loss: 4634.0420\n",
      "Validation Loss: 4529.5268\n",
      "Validation Accuracy: 4.13%\n",
      "-------------------------\n"
     ]
    },
    {
     "name": "stderr",
     "output_type": "stream",
     "text": [
      "                                                                                                                  \r"
     ]
    },
    {
     "name": "stdout",
     "output_type": "stream",
     "text": [
      "Epoch 238/400:\n",
      "Training Loss: 4669.0833\n",
      "Validation Loss: 4376.0327\n",
      "Validation Accuracy: 3.98%\n",
      "-------------------------\n"
     ]
    },
    {
     "name": "stderr",
     "output_type": "stream",
     "text": [
      "                                                                                                                  \r"
     ]
    },
    {
     "name": "stdout",
     "output_type": "stream",
     "text": [
      "Epoch 239/400:\n",
      "Training Loss: 4612.5999\n",
      "Validation Loss: 4706.0191\n",
      "Validation Accuracy: 4.68%\n",
      "-------------------------\n"
     ]
    },
    {
     "name": "stderr",
     "output_type": "stream",
     "text": [
      "                                                                                                                  \r"
     ]
    },
    {
     "name": "stdout",
     "output_type": "stream",
     "text": [
      "Epoch 240/400:\n",
      "Training Loss: 4653.9628\n",
      "Validation Loss: 4367.3972\n",
      "Validation Accuracy: 4.06%\n",
      "-------------------------\n"
     ]
    },
    {
     "name": "stderr",
     "output_type": "stream",
     "text": [
      "                                                                                                                  \r"
     ]
    },
    {
     "name": "stdout",
     "output_type": "stream",
     "text": [
      "Epoch 241/400:\n",
      "Training Loss: 4622.9134\n",
      "Validation Loss: 4447.1768\n",
      "Validation Accuracy: 3.59%\n",
      "-------------------------\n"
     ]
    },
    {
     "name": "stderr",
     "output_type": "stream",
     "text": [
      "                                                                                                                  \r"
     ]
    },
    {
     "name": "stdout",
     "output_type": "stream",
     "text": [
      "Epoch 242/400:\n",
      "Training Loss: 4635.5820\n",
      "Validation Loss: 4454.4306\n",
      "Validation Accuracy: 3.90%\n",
      "-------------------------\n"
     ]
    },
    {
     "name": "stderr",
     "output_type": "stream",
     "text": [
      "                                                                                                                  \r"
     ]
    },
    {
     "name": "stdout",
     "output_type": "stream",
     "text": [
      "Epoch 243/400:\n",
      "Training Loss: 4615.6060\n",
      "Validation Loss: 4406.3462\n",
      "Validation Accuracy: 6.16%\n",
      "-------------------------\n"
     ]
    },
    {
     "name": "stderr",
     "output_type": "stream",
     "text": [
      "                                                                                                                  \r"
     ]
    },
    {
     "name": "stdout",
     "output_type": "stream",
     "text": [
      "Epoch 244/400:\n",
      "Training Loss: 4611.2634\n",
      "Validation Loss: 4517.4608\n",
      "Validation Accuracy: 6.55%\n",
      "-------------------------\n"
     ]
    },
    {
     "name": "stderr",
     "output_type": "stream",
     "text": [
      "                                                                                                                  \r"
     ]
    },
    {
     "name": "stdout",
     "output_type": "stream",
     "text": [
      "Epoch 245/400:\n",
      "Training Loss: 4658.0423\n",
      "Validation Loss: 4423.1484\n",
      "Validation Accuracy: 6.63%\n",
      "-------------------------\n"
     ]
    },
    {
     "name": "stderr",
     "output_type": "stream",
     "text": [
      "                                                                                                                  \r"
     ]
    },
    {
     "name": "stdout",
     "output_type": "stream",
     "text": [
      "Epoch 246/400:\n",
      "Training Loss: 4608.5810\n",
      "Validation Loss: 4314.2259\n",
      "Validation Accuracy: 6.47%\n",
      "-------------------------\n"
     ]
    },
    {
     "name": "stderr",
     "output_type": "stream",
     "text": [
      "                                                                                                                  \r"
     ]
    },
    {
     "name": "stdout",
     "output_type": "stream",
     "text": [
      "Epoch 247/400:\n",
      "Training Loss: 4622.9244\n",
      "Validation Loss: 4439.0385\n",
      "Validation Accuracy: 6.24%\n",
      "-------------------------\n"
     ]
    },
    {
     "name": "stderr",
     "output_type": "stream",
     "text": [
      "                                                                                                                  \r"
     ]
    },
    {
     "name": "stdout",
     "output_type": "stream",
     "text": [
      "Epoch 248/400:\n",
      "Training Loss: 4611.0237\n",
      "Validation Loss: 4531.4694\n",
      "Validation Accuracy: 6.40%\n",
      "-------------------------\n"
     ]
    },
    {
     "name": "stderr",
     "output_type": "stream",
     "text": [
      "                                                                                                                  \r"
     ]
    },
    {
     "name": "stdout",
     "output_type": "stream",
     "text": [
      "Epoch 249/400:\n",
      "Training Loss: 4614.0773\n",
      "Validation Loss: 4355.1843\n",
      "Validation Accuracy: 6.79%\n",
      "-------------------------\n"
     ]
    },
    {
     "name": "stderr",
     "output_type": "stream",
     "text": [
      "                                                                                                                  \r"
     ]
    },
    {
     "name": "stdout",
     "output_type": "stream",
     "text": [
      "Epoch 250/400:\n",
      "Training Loss: 4576.1869\n",
      "Validation Loss: 4516.8205\n",
      "Validation Accuracy: 6.32%\n",
      "-------------------------\n"
     ]
    },
    {
     "name": "stderr",
     "output_type": "stream",
     "text": [
      "                                                                                                                  \r"
     ]
    },
    {
     "name": "stdout",
     "output_type": "stream",
     "text": [
      "Epoch 251/400:\n",
      "Training Loss: 4600.0486\n",
      "Validation Loss: 4333.9823\n",
      "Validation Accuracy: 6.71%\n",
      "-------------------------\n"
     ]
    },
    {
     "name": "stderr",
     "output_type": "stream",
     "text": [
      "                                                                                                                  \r"
     ]
    },
    {
     "name": "stdout",
     "output_type": "stream",
     "text": [
      "Epoch 252/400:\n",
      "Training Loss: 4598.6777\n",
      "Validation Loss: 4374.6322\n",
      "Validation Accuracy: 6.71%\n",
      "-------------------------\n"
     ]
    },
    {
     "name": "stderr",
     "output_type": "stream",
     "text": [
      "                                                                                                                  \r"
     ]
    },
    {
     "name": "stdout",
     "output_type": "stream",
     "text": [
      "Epoch 253/400:\n",
      "Training Loss: 4566.5509\n",
      "Validation Loss: 4278.4161\n",
      "Validation Accuracy: 6.86%\n",
      "-------------------------\n"
     ]
    },
    {
     "name": "stderr",
     "output_type": "stream",
     "text": [
      "                                                                                                                  \r"
     ]
    },
    {
     "name": "stdout",
     "output_type": "stream",
     "text": [
      "Epoch 254/400:\n",
      "Training Loss: 4592.3294\n",
      "Validation Loss: 4353.1245\n",
      "Validation Accuracy: 6.63%\n",
      "-------------------------\n"
     ]
    },
    {
     "name": "stderr",
     "output_type": "stream",
     "text": [
      "                                                                                                                  \r"
     ]
    },
    {
     "name": "stdout",
     "output_type": "stream",
     "text": [
      "Epoch 255/400:\n",
      "Training Loss: 4573.1762\n",
      "Validation Loss: 4336.7130\n",
      "Validation Accuracy: 6.55%\n",
      "-------------------------\n"
     ]
    },
    {
     "name": "stderr",
     "output_type": "stream",
     "text": [
      "                                                                                                                  \r"
     ]
    },
    {
     "name": "stdout",
     "output_type": "stream",
     "text": [
      "Epoch 256/400:\n",
      "Training Loss: 4537.7717\n",
      "Validation Loss: 4323.9068\n",
      "Validation Accuracy: 6.86%\n",
      "-------------------------\n"
     ]
    },
    {
     "name": "stderr",
     "output_type": "stream",
     "text": [
      "                                                                                                                  \r"
     ]
    },
    {
     "name": "stdout",
     "output_type": "stream",
     "text": [
      "Epoch 257/400:\n",
      "Training Loss: 4552.6161\n",
      "Validation Loss: 4277.6766\n",
      "Validation Accuracy: 7.10%\n",
      "-------------------------\n"
     ]
    },
    {
     "name": "stderr",
     "output_type": "stream",
     "text": [
      "                                                                                                                  \r"
     ]
    },
    {
     "name": "stdout",
     "output_type": "stream",
     "text": [
      "Epoch 258/400:\n",
      "Training Loss: 4564.8840\n",
      "Validation Loss: 4454.1231\n",
      "Validation Accuracy: 6.40%\n",
      "-------------------------\n"
     ]
    },
    {
     "name": "stderr",
     "output_type": "stream",
     "text": [
      "                                                                                                                  \r"
     ]
    },
    {
     "name": "stdout",
     "output_type": "stream",
     "text": [
      "Epoch 259/400:\n",
      "Training Loss: 4535.0178\n",
      "Validation Loss: 4251.0914\n",
      "Validation Accuracy: 6.79%\n",
      "-------------------------\n"
     ]
    },
    {
     "name": "stderr",
     "output_type": "stream",
     "text": [
      "                                                                                                                  \r"
     ]
    },
    {
     "name": "stdout",
     "output_type": "stream",
     "text": [
      "Epoch 260/400:\n",
      "Training Loss: 4560.7755\n",
      "Validation Loss: 4260.8480\n",
      "Validation Accuracy: 6.47%\n",
      "-------------------------\n"
     ]
    },
    {
     "name": "stderr",
     "output_type": "stream",
     "text": [
      "                                                                                                                  \r"
     ]
    },
    {
     "name": "stdout",
     "output_type": "stream",
     "text": [
      "Epoch 261/400:\n",
      "Training Loss: 4548.9697\n",
      "Validation Loss: 4351.2940\n",
      "Validation Accuracy: 6.63%\n",
      "-------------------------\n"
     ]
    },
    {
     "name": "stderr",
     "output_type": "stream",
     "text": [
      "                                                                                                                  \r"
     ]
    },
    {
     "name": "stdout",
     "output_type": "stream",
     "text": [
      "Epoch 262/400:\n",
      "Training Loss: 4513.7072\n",
      "Validation Loss: 4258.6581\n",
      "Validation Accuracy: 6.47%\n",
      "-------------------------\n"
     ]
    },
    {
     "name": "stderr",
     "output_type": "stream",
     "text": [
      "                                                                                                                  \r"
     ]
    },
    {
     "name": "stdout",
     "output_type": "stream",
     "text": [
      "Epoch 263/400:\n",
      "Training Loss: 4528.7149\n",
      "Validation Loss: 4401.7849\n",
      "Validation Accuracy: 7.33%\n",
      "-------------------------\n"
     ]
    },
    {
     "name": "stderr",
     "output_type": "stream",
     "text": [
      "                                                                                                                  \r"
     ]
    },
    {
     "name": "stdout",
     "output_type": "stream",
     "text": [
      "Epoch 264/400:\n",
      "Training Loss: 4524.6435\n",
      "Validation Loss: 4217.3306\n",
      "Validation Accuracy: 7.25%\n",
      "-------------------------\n"
     ]
    },
    {
     "name": "stderr",
     "output_type": "stream",
     "text": [
      "                                                                                                                  \r"
     ]
    },
    {
     "name": "stdout",
     "output_type": "stream",
     "text": [
      "Epoch 265/400:\n",
      "Training Loss: 4552.9023\n",
      "Validation Loss: 4331.5680\n",
      "Validation Accuracy: 6.79%\n",
      "-------------------------\n"
     ]
    },
    {
     "name": "stderr",
     "output_type": "stream",
     "text": [
      "                                                                                                                  \r"
     ]
    },
    {
     "name": "stdout",
     "output_type": "stream",
     "text": [
      "Epoch 266/400:\n",
      "Training Loss: 4512.8811\n",
      "Validation Loss: 4180.3457\n",
      "Validation Accuracy: 6.63%\n",
      "-------------------------\n"
     ]
    },
    {
     "name": "stderr",
     "output_type": "stream",
     "text": [
      "                                                                                                                  \r"
     ]
    },
    {
     "name": "stdout",
     "output_type": "stream",
     "text": [
      "Epoch 267/400:\n",
      "Training Loss: 4495.0643\n",
      "Validation Loss: 4289.8647\n",
      "Validation Accuracy: 6.40%\n",
      "-------------------------\n"
     ]
    },
    {
     "name": "stderr",
     "output_type": "stream",
     "text": [
      "                                                                                                                  \r"
     ]
    },
    {
     "name": "stdout",
     "output_type": "stream",
     "text": [
      "Epoch 268/400:\n",
      "Training Loss: 4516.8510\n",
      "Validation Loss: 4244.2668\n",
      "Validation Accuracy: 6.86%\n",
      "-------------------------\n"
     ]
    },
    {
     "name": "stderr",
     "output_type": "stream",
     "text": [
      "                                                                                                                  \r"
     ]
    },
    {
     "name": "stdout",
     "output_type": "stream",
     "text": [
      "Epoch 269/400:\n",
      "Training Loss: 4535.3973\n",
      "Validation Loss: 4287.6155\n",
      "Validation Accuracy: 6.86%\n",
      "-------------------------\n"
     ]
    },
    {
     "name": "stderr",
     "output_type": "stream",
     "text": [
      "                                                                                                                  \r"
     ]
    },
    {
     "name": "stdout",
     "output_type": "stream",
     "text": [
      "Epoch 270/400:\n",
      "Training Loss: 4512.0649\n",
      "Validation Loss: 4286.9882\n",
      "Validation Accuracy: 6.47%\n",
      "-------------------------\n"
     ]
    },
    {
     "name": "stderr",
     "output_type": "stream",
     "text": [
      "                                                                                                                  \r"
     ]
    },
    {
     "name": "stdout",
     "output_type": "stream",
     "text": [
      "Epoch 271/400:\n",
      "Training Loss: 4482.3093\n",
      "Validation Loss: 4310.1457\n",
      "Validation Accuracy: 7.02%\n",
      "-------------------------\n"
     ]
    },
    {
     "name": "stderr",
     "output_type": "stream",
     "text": [
      "                                                                                                                  \r"
     ]
    },
    {
     "name": "stdout",
     "output_type": "stream",
     "text": [
      "Epoch 272/400:\n",
      "Training Loss: 4504.7168\n",
      "Validation Loss: 4322.8208\n",
      "Validation Accuracy: 7.33%\n",
      "-------------------------\n"
     ]
    },
    {
     "name": "stderr",
     "output_type": "stream",
     "text": [
      "                                                                                                                  \r"
     ]
    },
    {
     "name": "stdout",
     "output_type": "stream",
     "text": [
      "Epoch 273/400:\n",
      "Training Loss: 4490.8188\n",
      "Validation Loss: 4219.0179\n",
      "Validation Accuracy: 7.25%\n",
      "-------------------------\n"
     ]
    },
    {
     "name": "stderr",
     "output_type": "stream",
     "text": [
      "                                                                                                                  \r"
     ]
    },
    {
     "name": "stdout",
     "output_type": "stream",
     "text": [
      "Epoch 274/400:\n",
      "Training Loss: 4480.4330\n",
      "Validation Loss: 4398.7451\n",
      "Validation Accuracy: 6.71%\n",
      "-------------------------\n"
     ]
    },
    {
     "name": "stderr",
     "output_type": "stream",
     "text": [
      "                                                                                                                  \r"
     ]
    },
    {
     "name": "stdout",
     "output_type": "stream",
     "text": [
      "Epoch 275/400:\n",
      "Training Loss: 4494.1593\n",
      "Validation Loss: 4229.8091\n",
      "Validation Accuracy: 6.71%\n",
      "-------------------------\n"
     ]
    },
    {
     "name": "stderr",
     "output_type": "stream",
     "text": [
      "                                                                                                                  \r"
     ]
    },
    {
     "name": "stdout",
     "output_type": "stream",
     "text": [
      "Epoch 276/400:\n",
      "Training Loss: 4475.0285\n",
      "Validation Loss: 4171.6385\n",
      "Validation Accuracy: 6.94%\n",
      "-------------------------\n"
     ]
    },
    {
     "name": "stderr",
     "output_type": "stream",
     "text": [
      "                                                                                                                  \r"
     ]
    },
    {
     "name": "stdout",
     "output_type": "stream",
     "text": [
      "Epoch 277/400:\n",
      "Training Loss: 4469.1751\n",
      "Validation Loss: 4271.5690\n",
      "Validation Accuracy: 6.24%\n",
      "-------------------------\n"
     ]
    },
    {
     "name": "stderr",
     "output_type": "stream",
     "text": [
      "                                                                                                                  \r"
     ]
    },
    {
     "name": "stdout",
     "output_type": "stream",
     "text": [
      "Epoch 278/400:\n",
      "Training Loss: 4504.4117\n",
      "Validation Loss: 4217.3902\n",
      "Validation Accuracy: 6.94%\n",
      "-------------------------\n"
     ]
    },
    {
     "name": "stderr",
     "output_type": "stream",
     "text": [
      "                                                                                                                  \r"
     ]
    },
    {
     "name": "stdout",
     "output_type": "stream",
     "text": [
      "Epoch 279/400:\n",
      "Training Loss: 4444.7653\n",
      "Validation Loss: 4182.7402\n",
      "Validation Accuracy: 6.94%\n",
      "-------------------------\n"
     ]
    },
    {
     "name": "stderr",
     "output_type": "stream",
     "text": [
      "                                                                                                                  \r"
     ]
    },
    {
     "name": "stdout",
     "output_type": "stream",
     "text": [
      "Epoch 280/400:\n",
      "Training Loss: 4466.1760\n",
      "Validation Loss: 4256.2934\n",
      "Validation Accuracy: 6.47%\n",
      "-------------------------\n"
     ]
    },
    {
     "name": "stderr",
     "output_type": "stream",
     "text": [
      "                                                                                                                  \r"
     ]
    },
    {
     "name": "stdout",
     "output_type": "stream",
     "text": [
      "Epoch 281/400:\n",
      "Training Loss: 4461.5641\n",
      "Validation Loss: 4213.3163\n",
      "Validation Accuracy: 6.86%\n",
      "-------------------------\n"
     ]
    },
    {
     "name": "stderr",
     "output_type": "stream",
     "text": [
      "                                                                                                                  \r"
     ]
    },
    {
     "name": "stdout",
     "output_type": "stream",
     "text": [
      "Epoch 282/400:\n",
      "Training Loss: 4466.2050\n",
      "Validation Loss: 4569.0948\n",
      "Validation Accuracy: 6.32%\n",
      "-------------------------\n"
     ]
    },
    {
     "name": "stderr",
     "output_type": "stream",
     "text": [
      "                                                                                                                  \r"
     ]
    },
    {
     "name": "stdout",
     "output_type": "stream",
     "text": [
      "Epoch 283/400:\n",
      "Training Loss: 4478.7353\n",
      "Validation Loss: 4301.9180\n",
      "Validation Accuracy: 6.79%\n",
      "-------------------------\n"
     ]
    },
    {
     "name": "stderr",
     "output_type": "stream",
     "text": [
      "                                                                                                                  \r"
     ]
    },
    {
     "name": "stdout",
     "output_type": "stream",
     "text": [
      "Epoch 284/400:\n",
      "Training Loss: 4468.9338\n",
      "Validation Loss: 4288.8265\n",
      "Validation Accuracy: 6.55%\n",
      "-------------------------\n"
     ]
    },
    {
     "name": "stderr",
     "output_type": "stream",
     "text": [
      "                                                                                                                  \r"
     ]
    },
    {
     "name": "stdout",
     "output_type": "stream",
     "text": [
      "Epoch 285/400:\n",
      "Training Loss: 4430.3682\n",
      "Validation Loss: 4454.8872\n",
      "Validation Accuracy: 6.71%\n",
      "-------------------------\n"
     ]
    },
    {
     "name": "stderr",
     "output_type": "stream",
     "text": [
      "                                                                                                                  \r"
     ]
    },
    {
     "name": "stdout",
     "output_type": "stream",
     "text": [
      "Epoch 286/400:\n",
      "Training Loss: 4421.5302\n",
      "Validation Loss: 4517.0782\n",
      "Validation Accuracy: 7.18%\n",
      "-------------------------\n"
     ]
    },
    {
     "name": "stderr",
     "output_type": "stream",
     "text": [
      "                                                                                                                  \r"
     ]
    },
    {
     "name": "stdout",
     "output_type": "stream",
     "text": [
      "Epoch 287/400:\n",
      "Training Loss: 4449.5016\n",
      "Validation Loss: 4276.0479\n",
      "Validation Accuracy: 7.10%\n",
      "-------------------------\n"
     ]
    },
    {
     "name": "stderr",
     "output_type": "stream",
     "text": [
      "                                                                                                                  \r"
     ]
    },
    {
     "name": "stdout",
     "output_type": "stream",
     "text": [
      "Epoch 288/400:\n",
      "Training Loss: 4415.0145\n",
      "Validation Loss: 4277.9352\n",
      "Validation Accuracy: 6.63%\n",
      "-------------------------\n"
     ]
    },
    {
     "name": "stderr",
     "output_type": "stream",
     "text": [
      "                                                                                                                  \r"
     ]
    },
    {
     "name": "stdout",
     "output_type": "stream",
     "text": [
      "Epoch 289/400:\n",
      "Training Loss: 4479.6511\n",
      "Validation Loss: 4161.3517\n",
      "Validation Accuracy: 6.79%\n",
      "-------------------------\n"
     ]
    },
    {
     "name": "stderr",
     "output_type": "stream",
     "text": [
      "                                                                                                                  \r"
     ]
    },
    {
     "name": "stdout",
     "output_type": "stream",
     "text": [
      "Epoch 290/400:\n",
      "Training Loss: 4490.4689\n",
      "Validation Loss: 4180.3947\n",
      "Validation Accuracy: 6.63%\n",
      "-------------------------\n"
     ]
    },
    {
     "name": "stderr",
     "output_type": "stream",
     "text": [
      "                                                                                                                  \r"
     ]
    },
    {
     "name": "stdout",
     "output_type": "stream",
     "text": [
      "Epoch 291/400:\n",
      "Training Loss: 4416.1300\n",
      "Validation Loss: 4140.0761\n",
      "Validation Accuracy: 6.86%\n",
      "-------------------------\n"
     ]
    },
    {
     "name": "stderr",
     "output_type": "stream",
     "text": [
      "                                                                                                                  \r"
     ]
    },
    {
     "name": "stdout",
     "output_type": "stream",
     "text": [
      "Epoch 292/400:\n",
      "Training Loss: 4394.9893\n",
      "Validation Loss: 4134.8974\n",
      "Validation Accuracy: 6.71%\n",
      "-------------------------\n"
     ]
    },
    {
     "name": "stderr",
     "output_type": "stream",
     "text": [
      "                                                                                                                  \r"
     ]
    },
    {
     "name": "stdout",
     "output_type": "stream",
     "text": [
      "Epoch 293/400:\n",
      "Training Loss: 4438.9333\n",
      "Validation Loss: 4141.4954\n",
      "Validation Accuracy: 7.18%\n",
      "-------------------------\n"
     ]
    },
    {
     "name": "stderr",
     "output_type": "stream",
     "text": [
      "                                                                                                                  \r"
     ]
    },
    {
     "name": "stdout",
     "output_type": "stream",
     "text": [
      "Epoch 294/400:\n",
      "Training Loss: 4386.8090\n",
      "Validation Loss: 4131.1711\n",
      "Validation Accuracy: 6.79%\n",
      "-------------------------\n"
     ]
    },
    {
     "name": "stderr",
     "output_type": "stream",
     "text": [
      "                                                                                                                  \r"
     ]
    },
    {
     "name": "stdout",
     "output_type": "stream",
     "text": [
      "Epoch 295/400:\n",
      "Training Loss: 4390.0892\n",
      "Validation Loss: 4398.0470\n",
      "Validation Accuracy: 6.55%\n",
      "-------------------------\n"
     ]
    },
    {
     "name": "stderr",
     "output_type": "stream",
     "text": [
      "                                                                                                                  \r"
     ]
    },
    {
     "name": "stdout",
     "output_type": "stream",
     "text": [
      "Epoch 296/400:\n",
      "Training Loss: 4394.6544\n",
      "Validation Loss: 4221.9445\n",
      "Validation Accuracy: 6.63%\n",
      "-------------------------\n"
     ]
    },
    {
     "name": "stderr",
     "output_type": "stream",
     "text": [
      "                                                                                                                  \r"
     ]
    },
    {
     "name": "stdout",
     "output_type": "stream",
     "text": [
      "Epoch 297/400:\n",
      "Training Loss: 4415.9072\n",
      "Validation Loss: 4101.9652\n",
      "Validation Accuracy: 6.79%\n",
      "-------------------------\n"
     ]
    },
    {
     "name": "stderr",
     "output_type": "stream",
     "text": [
      "                                                                                                                  \r"
     ]
    },
    {
     "name": "stdout",
     "output_type": "stream",
     "text": [
      "Epoch 298/400:\n",
      "Training Loss: 4393.3759\n",
      "Validation Loss: 4307.3116\n",
      "Validation Accuracy: 6.63%\n",
      "-------------------------\n"
     ]
    },
    {
     "name": "stderr",
     "output_type": "stream",
     "text": [
      "                                                                                                                  \r"
     ]
    },
    {
     "name": "stdout",
     "output_type": "stream",
     "text": [
      "Epoch 299/400:\n",
      "Training Loss: 4356.9994\n",
      "Validation Loss: 4159.2912\n",
      "Validation Accuracy: 7.25%\n",
      "-------------------------\n"
     ]
    },
    {
     "name": "stderr",
     "output_type": "stream",
     "text": [
      "                                                                                                                  \r"
     ]
    },
    {
     "name": "stdout",
     "output_type": "stream",
     "text": [
      "Epoch 300/400:\n",
      "Training Loss: 4412.5673\n",
      "Validation Loss: 4051.8387\n",
      "Validation Accuracy: 7.02%\n",
      "-------------------------\n"
     ]
    },
    {
     "name": "stderr",
     "output_type": "stream",
     "text": [
      "                                                                                                                  \r"
     ]
    },
    {
     "name": "stdout",
     "output_type": "stream",
     "text": [
      "Epoch 301/400:\n",
      "Training Loss: 4379.3428\n",
      "Validation Loss: 4077.8620\n",
      "Validation Accuracy: 6.63%\n",
      "-------------------------\n"
     ]
    },
    {
     "name": "stderr",
     "output_type": "stream",
     "text": [
      "                                                                                                                  \r"
     ]
    },
    {
     "name": "stdout",
     "output_type": "stream",
     "text": [
      "Epoch 302/400:\n",
      "Training Loss: 4375.5125\n",
      "Validation Loss: 4259.2397\n",
      "Validation Accuracy: 6.71%\n",
      "-------------------------\n"
     ]
    },
    {
     "name": "stderr",
     "output_type": "stream",
     "text": [
      "                                                                                                                  \r"
     ]
    },
    {
     "name": "stdout",
     "output_type": "stream",
     "text": [
      "Epoch 303/400:\n",
      "Training Loss: 4363.9230\n",
      "Validation Loss: 4093.2695\n",
      "Validation Accuracy: 6.79%\n",
      "-------------------------\n"
     ]
    },
    {
     "name": "stderr",
     "output_type": "stream",
     "text": [
      "                                                                                                                  \r"
     ]
    },
    {
     "name": "stdout",
     "output_type": "stream",
     "text": [
      "Epoch 304/400:\n",
      "Training Loss: 4394.2478\n",
      "Validation Loss: 4149.9728\n",
      "Validation Accuracy: 6.79%\n",
      "-------------------------\n"
     ]
    },
    {
     "name": "stderr",
     "output_type": "stream",
     "text": [
      "                                                                                                                  \r"
     ]
    },
    {
     "name": "stdout",
     "output_type": "stream",
     "text": [
      "Epoch 305/400:\n",
      "Training Loss: 4356.9212\n",
      "Validation Loss: 4247.1227\n",
      "Validation Accuracy: 6.16%\n",
      "-------------------------\n"
     ]
    },
    {
     "name": "stderr",
     "output_type": "stream",
     "text": [
      "                                                                                                                  \r"
     ]
    },
    {
     "name": "stdout",
     "output_type": "stream",
     "text": [
      "Epoch 306/400:\n",
      "Training Loss: 4408.5105\n",
      "Validation Loss: 4143.7048\n",
      "Validation Accuracy: 6.16%\n",
      "-------------------------\n"
     ]
    },
    {
     "name": "stderr",
     "output_type": "stream",
     "text": [
      "                                                                                                                  \r"
     ]
    },
    {
     "name": "stdout",
     "output_type": "stream",
     "text": [
      "Epoch 307/400:\n",
      "Training Loss: 4355.8282\n",
      "Validation Loss: 4152.3358\n",
      "Validation Accuracy: 7.10%\n",
      "-------------------------\n"
     ]
    },
    {
     "name": "stderr",
     "output_type": "stream",
     "text": [
      "                                                                                                                  \r"
     ]
    },
    {
     "name": "stdout",
     "output_type": "stream",
     "text": [
      "Epoch 308/400:\n",
      "Training Loss: 4362.7600\n",
      "Validation Loss: 4278.7509\n",
      "Validation Accuracy: 6.71%\n",
      "-------------------------\n"
     ]
    },
    {
     "name": "stderr",
     "output_type": "stream",
     "text": [
      "                                                                                                                  \r"
     ]
    },
    {
     "name": "stdout",
     "output_type": "stream",
     "text": [
      "Epoch 309/400:\n",
      "Training Loss: 4397.3412\n",
      "Validation Loss: 4160.9853\n",
      "Validation Accuracy: 6.71%\n",
      "-------------------------\n"
     ]
    },
    {
     "name": "stderr",
     "output_type": "stream",
     "text": [
      "                                                                                                                  \r"
     ]
    },
    {
     "name": "stdout",
     "output_type": "stream",
     "text": [
      "Epoch 310/400:\n",
      "Training Loss: 4346.0323\n",
      "Validation Loss: 4159.4412\n",
      "Validation Accuracy: 6.63%\n",
      "-------------------------\n"
     ]
    },
    {
     "name": "stderr",
     "output_type": "stream",
     "text": [
      "                                                                                                                  \r"
     ]
    },
    {
     "name": "stdout",
     "output_type": "stream",
     "text": [
      "Epoch 311/400:\n",
      "Training Loss: 4388.3604\n",
      "Validation Loss: 4220.0632\n",
      "Validation Accuracy: 6.47%\n",
      "-------------------------\n"
     ]
    },
    {
     "name": "stderr",
     "output_type": "stream",
     "text": [
      "                                                                                                                  \r"
     ]
    },
    {
     "name": "stdout",
     "output_type": "stream",
     "text": [
      "Epoch 312/400:\n",
      "Training Loss: 4317.1376\n",
      "Validation Loss: 4055.1247\n",
      "Validation Accuracy: 6.94%\n",
      "-------------------------\n"
     ]
    },
    {
     "name": "stderr",
     "output_type": "stream",
     "text": [
      "                                                                                                                  \r"
     ]
    },
    {
     "name": "stdout",
     "output_type": "stream",
     "text": [
      "Epoch 313/400:\n",
      "Training Loss: 4326.1203\n",
      "Validation Loss: 4177.5330\n",
      "Validation Accuracy: 6.86%\n",
      "-------------------------\n"
     ]
    },
    {
     "name": "stderr",
     "output_type": "stream",
     "text": [
      "                                                                                                                  \r"
     ]
    },
    {
     "name": "stdout",
     "output_type": "stream",
     "text": [
      "Epoch 314/400:\n",
      "Training Loss: 4339.3611\n",
      "Validation Loss: 4344.3639\n",
      "Validation Accuracy: 7.41%\n",
      "-------------------------\n"
     ]
    },
    {
     "name": "stderr",
     "output_type": "stream",
     "text": [
      "                                                                                                                  \r"
     ]
    },
    {
     "name": "stdout",
     "output_type": "stream",
     "text": [
      "Epoch 315/400:\n",
      "Training Loss: 4327.1679\n",
      "Validation Loss: 4396.3732\n",
      "Validation Accuracy: 7.25%\n",
      "-------------------------\n"
     ]
    },
    {
     "name": "stderr",
     "output_type": "stream",
     "text": [
      "                                                                                                                  \r"
     ]
    },
    {
     "name": "stdout",
     "output_type": "stream",
     "text": [
      "Epoch 316/400:\n",
      "Training Loss: 4412.6900\n",
      "Validation Loss: 4149.9607\n",
      "Validation Accuracy: 7.25%\n",
      "-------------------------\n"
     ]
    },
    {
     "name": "stderr",
     "output_type": "stream",
     "text": [
      "                                                                                                                  \r"
     ]
    },
    {
     "name": "stdout",
     "output_type": "stream",
     "text": [
      "Epoch 317/400:\n",
      "Training Loss: 4308.9778\n",
      "Validation Loss: 4111.4542\n",
      "Validation Accuracy: 7.18%\n",
      "-------------------------\n"
     ]
    },
    {
     "name": "stderr",
     "output_type": "stream",
     "text": [
      "                                                                                                                  \r"
     ]
    },
    {
     "name": "stdout",
     "output_type": "stream",
     "text": [
      "Epoch 318/400:\n",
      "Training Loss: 4325.7930\n",
      "Validation Loss: 4067.4161\n",
      "Validation Accuracy: 6.94%\n",
      "-------------------------\n"
     ]
    },
    {
     "name": "stderr",
     "output_type": "stream",
     "text": [
      "                                                                                                                  \r"
     ]
    },
    {
     "name": "stdout",
     "output_type": "stream",
     "text": [
      "Epoch 319/400:\n",
      "Training Loss: 4315.4586\n",
      "Validation Loss: 4153.8224\n",
      "Validation Accuracy: 6.94%\n",
      "-------------------------\n"
     ]
    },
    {
     "name": "stderr",
     "output_type": "stream",
     "text": [
      "                                                                                                                  \r"
     ]
    },
    {
     "name": "stdout",
     "output_type": "stream",
     "text": [
      "Epoch 320/400:\n",
      "Training Loss: 4323.6900\n",
      "Validation Loss: 4360.1215\n",
      "Validation Accuracy: 6.94%\n",
      "-------------------------\n"
     ]
    },
    {
     "name": "stderr",
     "output_type": "stream",
     "text": [
      "                                                                                                                  \r"
     ]
    },
    {
     "name": "stdout",
     "output_type": "stream",
     "text": [
      "Epoch 321/400:\n",
      "Training Loss: 4289.2072\n",
      "Validation Loss: 4045.2216\n",
      "Validation Accuracy: 7.10%\n",
      "-------------------------\n"
     ]
    },
    {
     "name": "stderr",
     "output_type": "stream",
     "text": [
      "                                                                                                                  \r"
     ]
    },
    {
     "name": "stdout",
     "output_type": "stream",
     "text": [
      "Epoch 322/400:\n",
      "Training Loss: 4327.7664\n",
      "Validation Loss: 4029.2795\n",
      "Validation Accuracy: 6.55%\n",
      "-------------------------\n"
     ]
    },
    {
     "name": "stderr",
     "output_type": "stream",
     "text": [
      "                                                                                                                  \r"
     ]
    },
    {
     "name": "stdout",
     "output_type": "stream",
     "text": [
      "Epoch 323/400:\n",
      "Training Loss: 4320.2276\n",
      "Validation Loss: 4201.7853\n",
      "Validation Accuracy: 6.79%\n",
      "-------------------------\n"
     ]
    },
    {
     "name": "stderr",
     "output_type": "stream",
     "text": [
      "                                                                                                                  \r"
     ]
    },
    {
     "name": "stdout",
     "output_type": "stream",
     "text": [
      "Epoch 324/400:\n",
      "Training Loss: 4309.3607\n",
      "Validation Loss: 4205.7814\n",
      "Validation Accuracy: 6.94%\n",
      "-------------------------\n"
     ]
    },
    {
     "name": "stderr",
     "output_type": "stream",
     "text": [
      "                                                                                                                  \r"
     ]
    },
    {
     "name": "stdout",
     "output_type": "stream",
     "text": [
      "Epoch 325/400:\n",
      "Training Loss: 4335.2945\n",
      "Validation Loss: 4042.6077\n",
      "Validation Accuracy: 6.63%\n",
      "-------------------------\n"
     ]
    },
    {
     "name": "stderr",
     "output_type": "stream",
     "text": [
      "                                                                                                                  \r"
     ]
    },
    {
     "name": "stdout",
     "output_type": "stream",
     "text": [
      "Epoch 326/400:\n",
      "Training Loss: 4337.4546\n",
      "Validation Loss: 4233.3250\n",
      "Validation Accuracy: 6.01%\n",
      "-------------------------\n"
     ]
    },
    {
     "name": "stderr",
     "output_type": "stream",
     "text": [
      "                                                                                                                  \r"
     ]
    },
    {
     "name": "stdout",
     "output_type": "stream",
     "text": [
      "Epoch 327/400:\n",
      "Training Loss: 4302.3569\n",
      "Validation Loss: 4184.0189\n",
      "Validation Accuracy: 7.49%\n",
      "-------------------------\n"
     ]
    },
    {
     "name": "stderr",
     "output_type": "stream",
     "text": [
      "                                                                                                                  \r"
     ]
    },
    {
     "name": "stdout",
     "output_type": "stream",
     "text": [
      "Epoch 328/400:\n",
      "Training Loss: 4330.0793\n",
      "Validation Loss: 4070.1176\n",
      "Validation Accuracy: 6.86%\n",
      "-------------------------\n"
     ]
    },
    {
     "name": "stderr",
     "output_type": "stream",
     "text": [
      "                                                                                                                  \r"
     ]
    },
    {
     "name": "stdout",
     "output_type": "stream",
     "text": [
      "Epoch 329/400:\n",
      "Training Loss: 4310.0315\n",
      "Validation Loss: 4174.8709\n",
      "Validation Accuracy: 6.63%\n",
      "-------------------------\n"
     ]
    },
    {
     "name": "stderr",
     "output_type": "stream",
     "text": [
      "                                                                                                                  \r"
     ]
    },
    {
     "name": "stdout",
     "output_type": "stream",
     "text": [
      "Epoch 330/400:\n",
      "Training Loss: 4309.1479\n",
      "Validation Loss: 4065.9592\n",
      "Validation Accuracy: 6.63%\n",
      "-------------------------\n"
     ]
    },
    {
     "name": "stderr",
     "output_type": "stream",
     "text": [
      "                                                                                                                  \r"
     ]
    },
    {
     "name": "stdout",
     "output_type": "stream",
     "text": [
      "Epoch 331/400:\n",
      "Training Loss: 4307.3320\n",
      "Validation Loss: 4061.3743\n",
      "Validation Accuracy: 6.94%\n",
      "-------------------------\n"
     ]
    },
    {
     "name": "stderr",
     "output_type": "stream",
     "text": [
      "                                                                                                                  \r"
     ]
    },
    {
     "name": "stdout",
     "output_type": "stream",
     "text": [
      "Epoch 332/400:\n",
      "Training Loss: 4306.6248\n",
      "Validation Loss: 4103.8549\n",
      "Validation Accuracy: 6.71%\n",
      "-------------------------\n"
     ]
    },
    {
     "name": "stderr",
     "output_type": "stream",
     "text": [
      "                                                                                                                  \r"
     ]
    },
    {
     "name": "stdout",
     "output_type": "stream",
     "text": [
      "Epoch 333/400:\n",
      "Training Loss: 4286.4419\n",
      "Validation Loss: 4129.7467\n",
      "Validation Accuracy: 6.55%\n",
      "-------------------------\n"
     ]
    },
    {
     "name": "stderr",
     "output_type": "stream",
     "text": [
      "                                                                                                                  \r"
     ]
    },
    {
     "name": "stdout",
     "output_type": "stream",
     "text": [
      "Epoch 334/400:\n",
      "Training Loss: 4273.2990\n",
      "Validation Loss: 4019.0925\n",
      "Validation Accuracy: 7.25%\n",
      "-------------------------\n"
     ]
    },
    {
     "name": "stderr",
     "output_type": "stream",
     "text": [
      "                                                                                                                  \r"
     ]
    },
    {
     "name": "stdout",
     "output_type": "stream",
     "text": [
      "Epoch 335/400:\n",
      "Training Loss: 4303.0228\n",
      "Validation Loss: 4236.2004\n",
      "Validation Accuracy: 6.63%\n",
      "-------------------------\n"
     ]
    },
    {
     "name": "stderr",
     "output_type": "stream",
     "text": [
      "                                                                                                                  \r"
     ]
    },
    {
     "name": "stdout",
     "output_type": "stream",
     "text": [
      "Epoch 336/400:\n",
      "Training Loss: 4273.2550\n",
      "Validation Loss: 4153.4384\n",
      "Validation Accuracy: 6.79%\n",
      "-------------------------\n"
     ]
    },
    {
     "name": "stderr",
     "output_type": "stream",
     "text": [
      "                                                                                                                  \r"
     ]
    },
    {
     "name": "stdout",
     "output_type": "stream",
     "text": [
      "Epoch 337/400:\n",
      "Training Loss: 4280.7148\n",
      "Validation Loss: 4023.7994\n",
      "Validation Accuracy: 6.86%\n",
      "-------------------------\n"
     ]
    },
    {
     "name": "stderr",
     "output_type": "stream",
     "text": [
      "                                                                                                                  \r"
     ]
    },
    {
     "name": "stdout",
     "output_type": "stream",
     "text": [
      "Epoch 338/400:\n",
      "Training Loss: 4281.7322\n",
      "Validation Loss: 4012.6965\n",
      "Validation Accuracy: 6.63%\n",
      "-------------------------\n"
     ]
    },
    {
     "name": "stderr",
     "output_type": "stream",
     "text": [
      "                                                                                                                  \r"
     ]
    },
    {
     "name": "stdout",
     "output_type": "stream",
     "text": [
      "Epoch 339/400:\n",
      "Training Loss: 4256.5744\n",
      "Validation Loss: 4009.0747\n",
      "Validation Accuracy: 6.94%\n",
      "-------------------------\n"
     ]
    },
    {
     "name": "stderr",
     "output_type": "stream",
     "text": [
      "                                                                                                                  \r"
     ]
    },
    {
     "name": "stdout",
     "output_type": "stream",
     "text": [
      "Epoch 340/400:\n",
      "Training Loss: 4254.7893\n",
      "Validation Loss: 4083.3824\n",
      "Validation Accuracy: 6.79%\n",
      "-------------------------\n"
     ]
    },
    {
     "name": "stderr",
     "output_type": "stream",
     "text": [
      "                                                                                                                  \r"
     ]
    },
    {
     "name": "stdout",
     "output_type": "stream",
     "text": [
      "Epoch 341/400:\n",
      "Training Loss: 4268.1204\n",
      "Validation Loss: 4099.7815\n",
      "Validation Accuracy: 6.94%\n",
      "-------------------------\n"
     ]
    },
    {
     "name": "stderr",
     "output_type": "stream",
     "text": [
      "                                                                                                                  \r"
     ]
    },
    {
     "name": "stdout",
     "output_type": "stream",
     "text": [
      "Epoch 342/400:\n",
      "Training Loss: 4257.4495\n",
      "Validation Loss: 4102.2640\n",
      "Validation Accuracy: 6.71%\n",
      "-------------------------\n"
     ]
    },
    {
     "name": "stderr",
     "output_type": "stream",
     "text": [
      "                                                                                                                  \r"
     ]
    },
    {
     "name": "stdout",
     "output_type": "stream",
     "text": [
      "Epoch 343/400:\n",
      "Training Loss: 4290.2332\n",
      "Validation Loss: 3977.2909\n",
      "Validation Accuracy: 6.63%\n",
      "-------------------------\n"
     ]
    },
    {
     "name": "stderr",
     "output_type": "stream",
     "text": [
      "                                                                                                                  \r"
     ]
    },
    {
     "name": "stdout",
     "output_type": "stream",
     "text": [
      "Epoch 344/400:\n",
      "Training Loss: 4251.6370\n",
      "Validation Loss: 3987.0632\n",
      "Validation Accuracy: 6.71%\n",
      "-------------------------\n"
     ]
    },
    {
     "name": "stderr",
     "output_type": "stream",
     "text": [
      "                                                                                                                  \r"
     ]
    },
    {
     "name": "stdout",
     "output_type": "stream",
     "text": [
      "Epoch 345/400:\n",
      "Training Loss: 4222.5613\n",
      "Validation Loss: 4244.0935\n",
      "Validation Accuracy: 7.18%\n",
      "-------------------------\n"
     ]
    },
    {
     "name": "stderr",
     "output_type": "stream",
     "text": [
      "                                                                                                                  \r"
     ]
    },
    {
     "name": "stdout",
     "output_type": "stream",
     "text": [
      "Epoch 346/400:\n",
      "Training Loss: 4246.5825\n",
      "Validation Loss: 4047.8165\n",
      "Validation Accuracy: 6.55%\n",
      "-------------------------\n"
     ]
    },
    {
     "name": "stderr",
     "output_type": "stream",
     "text": [
      "                                                                                                                  \r"
     ]
    },
    {
     "name": "stdout",
     "output_type": "stream",
     "text": [
      "Epoch 347/400:\n",
      "Training Loss: 4247.0803\n",
      "Validation Loss: 4042.1721\n",
      "Validation Accuracy: 6.47%\n",
      "-------------------------\n"
     ]
    },
    {
     "name": "stderr",
     "output_type": "stream",
     "text": [
      "                                                                                                                  \r"
     ]
    },
    {
     "name": "stdout",
     "output_type": "stream",
     "text": [
      "Epoch 348/400:\n",
      "Training Loss: 4271.8411\n",
      "Validation Loss: 4091.3538\n",
      "Validation Accuracy: 6.55%\n",
      "-------------------------\n"
     ]
    },
    {
     "name": "stderr",
     "output_type": "stream",
     "text": [
      "                                                                                                                  \r"
     ]
    },
    {
     "name": "stdout",
     "output_type": "stream",
     "text": [
      "Epoch 349/400:\n",
      "Training Loss: 4216.8006\n",
      "Validation Loss: 4065.7706\n",
      "Validation Accuracy: 6.63%\n",
      "-------------------------\n"
     ]
    },
    {
     "name": "stderr",
     "output_type": "stream",
     "text": [
      "                                                                                                                  \r"
     ]
    },
    {
     "name": "stdout",
     "output_type": "stream",
     "text": [
      "Epoch 350/400:\n",
      "Training Loss: 4239.3610\n",
      "Validation Loss: 4078.6372\n",
      "Validation Accuracy: 6.55%\n",
      "-------------------------\n"
     ]
    },
    {
     "name": "stderr",
     "output_type": "stream",
     "text": [
      "                                                                                                                  \r"
     ]
    },
    {
     "name": "stdout",
     "output_type": "stream",
     "text": [
      "Epoch 351/400:\n",
      "Training Loss: 4215.9750\n",
      "Validation Loss: 3986.0938\n",
      "Validation Accuracy: 6.71%\n",
      "-------------------------\n"
     ]
    },
    {
     "name": "stderr",
     "output_type": "stream",
     "text": [
      "                                                                                                                  \r"
     ]
    },
    {
     "name": "stdout",
     "output_type": "stream",
     "text": [
      "Epoch 352/400:\n",
      "Training Loss: 4257.3696\n",
      "Validation Loss: 4172.7969\n",
      "Validation Accuracy: 6.32%\n",
      "-------------------------\n"
     ]
    },
    {
     "name": "stderr",
     "output_type": "stream",
     "text": [
      "                                                                                                                  \r"
     ]
    },
    {
     "name": "stdout",
     "output_type": "stream",
     "text": [
      "Epoch 353/400:\n",
      "Training Loss: 4241.8407\n",
      "Validation Loss: 4023.1857\n",
      "Validation Accuracy: 6.55%\n",
      "-------------------------\n"
     ]
    },
    {
     "name": "stderr",
     "output_type": "stream",
     "text": [
      "                                                                                                                  \r"
     ]
    },
    {
     "name": "stdout",
     "output_type": "stream",
     "text": [
      "Epoch 354/400:\n",
      "Training Loss: 4231.6094\n",
      "Validation Loss: 4201.5111\n",
      "Validation Accuracy: 6.71%\n",
      "-------------------------\n"
     ]
    },
    {
     "name": "stderr",
     "output_type": "stream",
     "text": [
      "                                                                                                                  \r"
     ]
    },
    {
     "name": "stdout",
     "output_type": "stream",
     "text": [
      "Epoch 355/400:\n",
      "Training Loss: 4237.8190\n",
      "Validation Loss: 4024.7687\n",
      "Validation Accuracy: 6.79%\n",
      "-------------------------\n"
     ]
    },
    {
     "name": "stderr",
     "output_type": "stream",
     "text": [
      "                                                                                                                  \r"
     ]
    },
    {
     "name": "stdout",
     "output_type": "stream",
     "text": [
      "Epoch 356/400:\n",
      "Training Loss: 4208.5759\n",
      "Validation Loss: 4017.7330\n",
      "Validation Accuracy: 7.02%\n",
      "-------------------------\n"
     ]
    },
    {
     "name": "stderr",
     "output_type": "stream",
     "text": [
      "                                                                                                                  \r"
     ]
    },
    {
     "name": "stdout",
     "output_type": "stream",
     "text": [
      "Epoch 357/400:\n",
      "Training Loss: 4241.5804\n",
      "Validation Loss: 4148.9201\n",
      "Validation Accuracy: 6.63%\n",
      "-------------------------\n"
     ]
    },
    {
     "name": "stderr",
     "output_type": "stream",
     "text": [
      "                                                                                                                  \r"
     ]
    },
    {
     "name": "stdout",
     "output_type": "stream",
     "text": [
      "Epoch 358/400:\n",
      "Training Loss: 4217.1417\n",
      "Validation Loss: 4304.8367\n",
      "Validation Accuracy: 6.32%\n",
      "-------------------------\n"
     ]
    },
    {
     "name": "stderr",
     "output_type": "stream",
     "text": [
      "                                                                                                                  \r"
     ]
    },
    {
     "name": "stdout",
     "output_type": "stream",
     "text": [
      "Epoch 359/400:\n",
      "Training Loss: 4202.6274\n",
      "Validation Loss: 4220.7399\n",
      "Validation Accuracy: 6.94%\n",
      "-------------------------\n"
     ]
    },
    {
     "name": "stderr",
     "output_type": "stream",
     "text": [
      "                                                                                                                  \r"
     ]
    },
    {
     "name": "stdout",
     "output_type": "stream",
     "text": [
      "Epoch 360/400:\n",
      "Training Loss: 4217.7135\n",
      "Validation Loss: 4118.3721\n",
      "Validation Accuracy: 6.71%\n",
      "-------------------------\n"
     ]
    },
    {
     "name": "stderr",
     "output_type": "stream",
     "text": [
      "                                                                                                                  \r"
     ]
    },
    {
     "name": "stdout",
     "output_type": "stream",
     "text": [
      "Epoch 361/400:\n",
      "Training Loss: 4225.1251\n",
      "Validation Loss: 4010.7335\n",
      "Validation Accuracy: 6.79%\n",
      "-------------------------\n"
     ]
    },
    {
     "name": "stderr",
     "output_type": "stream",
     "text": [
      "                                                                                                                  \r"
     ]
    },
    {
     "name": "stdout",
     "output_type": "stream",
     "text": [
      "Epoch 362/400:\n",
      "Training Loss: 4210.7274\n",
      "Validation Loss: 4004.4421\n",
      "Validation Accuracy: 6.71%\n",
      "-------------------------\n"
     ]
    },
    {
     "name": "stderr",
     "output_type": "stream",
     "text": [
      "                                                                                                                  \r"
     ]
    },
    {
     "name": "stdout",
     "output_type": "stream",
     "text": [
      "Epoch 363/400:\n",
      "Training Loss: 4218.8167\n",
      "Validation Loss: 4068.0673\n",
      "Validation Accuracy: 7.02%\n",
      "-------------------------\n"
     ]
    },
    {
     "name": "stderr",
     "output_type": "stream",
     "text": [
      "                                                                                                                  \r"
     ]
    },
    {
     "name": "stdout",
     "output_type": "stream",
     "text": [
      "Epoch 364/400:\n",
      "Training Loss: 4203.9103\n",
      "Validation Loss: 4073.7191\n",
      "Validation Accuracy: 7.02%\n",
      "-------------------------\n"
     ]
    },
    {
     "name": "stderr",
     "output_type": "stream",
     "text": [
      "                                                                                                                  \r"
     ]
    },
    {
     "name": "stdout",
     "output_type": "stream",
     "text": [
      "Epoch 365/400:\n",
      "Training Loss: 4252.8829\n",
      "Validation Loss: 4022.0701\n",
      "Validation Accuracy: 6.94%\n",
      "-------------------------\n"
     ]
    },
    {
     "name": "stderr",
     "output_type": "stream",
     "text": [
      "                                                                                                                  \r"
     ]
    },
    {
     "name": "stdout",
     "output_type": "stream",
     "text": [
      "Epoch 366/400:\n",
      "Training Loss: 4195.6178\n",
      "Validation Loss: 3979.0238\n",
      "Validation Accuracy: 6.63%\n",
      "-------------------------\n"
     ]
    },
    {
     "name": "stderr",
     "output_type": "stream",
     "text": [
      "                                                                                                                  \r"
     ]
    },
    {
     "name": "stdout",
     "output_type": "stream",
     "text": [
      "Epoch 367/400:\n",
      "Training Loss: 4190.3497\n",
      "Validation Loss: 4071.9123\n",
      "Validation Accuracy: 6.71%\n",
      "-------------------------\n"
     ]
    },
    {
     "name": "stderr",
     "output_type": "stream",
     "text": [
      "                                                                                                                  \r"
     ]
    },
    {
     "name": "stdout",
     "output_type": "stream",
     "text": [
      "Epoch 368/400:\n",
      "Training Loss: 4187.7419\n",
      "Validation Loss: 4120.3030\n",
      "Validation Accuracy: 6.71%\n",
      "-------------------------\n"
     ]
    },
    {
     "name": "stderr",
     "output_type": "stream",
     "text": [
      "                                                                                                                  \r"
     ]
    },
    {
     "name": "stdout",
     "output_type": "stream",
     "text": [
      "Epoch 369/400:\n",
      "Training Loss: 4229.6391\n",
      "Validation Loss: 4006.0239\n",
      "Validation Accuracy: 7.25%\n",
      "-------------------------\n"
     ]
    },
    {
     "name": "stderr",
     "output_type": "stream",
     "text": [
      "                                                                                                                  \r"
     ]
    },
    {
     "name": "stdout",
     "output_type": "stream",
     "text": [
      "Epoch 370/400:\n",
      "Training Loss: 4207.6405\n",
      "Validation Loss: 3981.4286\n",
      "Validation Accuracy: 6.47%\n",
      "-------------------------\n"
     ]
    },
    {
     "name": "stderr",
     "output_type": "stream",
     "text": [
      "                                                                                                                  \r"
     ]
    },
    {
     "name": "stdout",
     "output_type": "stream",
     "text": [
      "Epoch 371/400:\n",
      "Training Loss: 4197.3171\n",
      "Validation Loss: 3975.7232\n",
      "Validation Accuracy: 6.55%\n",
      "-------------------------\n"
     ]
    },
    {
     "name": "stderr",
     "output_type": "stream",
     "text": [
      "                                                                                                                  \r"
     ]
    },
    {
     "name": "stdout",
     "output_type": "stream",
     "text": [
      "Epoch 372/400:\n",
      "Training Loss: 4185.7293\n",
      "Validation Loss: 4041.9430\n",
      "Validation Accuracy: 6.32%\n",
      "-------------------------\n"
     ]
    },
    {
     "name": "stderr",
     "output_type": "stream",
     "text": [
      "                                                                                                                  \r"
     ]
    },
    {
     "name": "stdout",
     "output_type": "stream",
     "text": [
      "Epoch 373/400:\n",
      "Training Loss: 4168.9981\n",
      "Validation Loss: 3979.6112\n",
      "Validation Accuracy: 7.10%\n",
      "-------------------------\n"
     ]
    },
    {
     "name": "stderr",
     "output_type": "stream",
     "text": [
      "                                                                                                                  \r"
     ]
    },
    {
     "name": "stdout",
     "output_type": "stream",
     "text": [
      "Epoch 374/400:\n",
      "Training Loss: 4160.6371\n",
      "Validation Loss: 3989.4993\n",
      "Validation Accuracy: 6.40%\n",
      "-------------------------\n"
     ]
    },
    {
     "name": "stderr",
     "output_type": "stream",
     "text": [
      "                                                                                                                  \r"
     ]
    },
    {
     "name": "stdout",
     "output_type": "stream",
     "text": [
      "Epoch 375/400:\n",
      "Training Loss: 4205.1289\n",
      "Validation Loss: 4060.6124\n",
      "Validation Accuracy: 6.71%\n",
      "-------------------------\n"
     ]
    },
    {
     "name": "stderr",
     "output_type": "stream",
     "text": [
      "                                                                                                                  \r"
     ]
    },
    {
     "name": "stdout",
     "output_type": "stream",
     "text": [
      "Epoch 376/400:\n",
      "Training Loss: 4222.5763\n",
      "Validation Loss: 4128.8505\n",
      "Validation Accuracy: 7.10%\n",
      "-------------------------\n"
     ]
    },
    {
     "name": "stderr",
     "output_type": "stream",
     "text": [
      "                                                                                                                  \r"
     ]
    },
    {
     "name": "stdout",
     "output_type": "stream",
     "text": [
      "Epoch 377/400:\n",
      "Training Loss: 4174.4259\n",
      "Validation Loss: 4001.4152\n",
      "Validation Accuracy: 7.25%\n",
      "-------------------------\n"
     ]
    },
    {
     "name": "stderr",
     "output_type": "stream",
     "text": [
      "                                                                                                                  \r"
     ]
    },
    {
     "name": "stdout",
     "output_type": "stream",
     "text": [
      "Epoch 378/400:\n",
      "Training Loss: 4165.6519\n",
      "Validation Loss: 3948.2212\n",
      "Validation Accuracy: 6.55%\n",
      "-------------------------\n"
     ]
    },
    {
     "name": "stderr",
     "output_type": "stream",
     "text": [
      "                                                                                                                  \r"
     ]
    },
    {
     "name": "stdout",
     "output_type": "stream",
     "text": [
      "Epoch 379/400:\n",
      "Training Loss: 4182.7208\n",
      "Validation Loss: 4176.2041\n",
      "Validation Accuracy: 6.71%\n",
      "-------------------------\n"
     ]
    },
    {
     "name": "stderr",
     "output_type": "stream",
     "text": [
      "                                                                                                                  \r"
     ]
    },
    {
     "name": "stdout",
     "output_type": "stream",
     "text": [
      "Epoch 380/400:\n",
      "Training Loss: 4146.9636\n",
      "Validation Loss: 3979.9061\n",
      "Validation Accuracy: 6.32%\n",
      "-------------------------\n"
     ]
    },
    {
     "name": "stderr",
     "output_type": "stream",
     "text": [
      "                                                                                                                  \r"
     ]
    },
    {
     "name": "stdout",
     "output_type": "stream",
     "text": [
      "Epoch 381/400:\n",
      "Training Loss: 4166.0736\n",
      "Validation Loss: 3922.3609\n",
      "Validation Accuracy: 6.79%\n",
      "-------------------------\n"
     ]
    },
    {
     "name": "stderr",
     "output_type": "stream",
     "text": [
      "                                                                                                                  \r"
     ]
    },
    {
     "name": "stdout",
     "output_type": "stream",
     "text": [
      "Epoch 382/400:\n",
      "Training Loss: 4171.7918\n",
      "Validation Loss: 4008.0419\n",
      "Validation Accuracy: 6.40%\n",
      "-------------------------\n"
     ]
    },
    {
     "name": "stderr",
     "output_type": "stream",
     "text": [
      "                                                                                                                  \r"
     ]
    },
    {
     "name": "stdout",
     "output_type": "stream",
     "text": [
      "Epoch 383/400:\n",
      "Training Loss: 4190.9699\n",
      "Validation Loss: 3948.3409\n",
      "Validation Accuracy: 6.79%\n",
      "-------------------------\n"
     ]
    },
    {
     "name": "stderr",
     "output_type": "stream",
     "text": [
      "                                                                                                                  \r"
     ]
    },
    {
     "name": "stdout",
     "output_type": "stream",
     "text": [
      "Epoch 384/400:\n",
      "Training Loss: 4157.1208\n",
      "Validation Loss: 3958.2681\n",
      "Validation Accuracy: 6.71%\n",
      "-------------------------\n"
     ]
    },
    {
     "name": "stderr",
     "output_type": "stream",
     "text": [
      "                                                                                                                  \r"
     ]
    },
    {
     "name": "stdout",
     "output_type": "stream",
     "text": [
      "Epoch 385/400:\n",
      "Training Loss: 4153.7858\n",
      "Validation Loss: 4015.8896\n",
      "Validation Accuracy: 6.63%\n",
      "-------------------------\n"
     ]
    },
    {
     "name": "stderr",
     "output_type": "stream",
     "text": [
      "                                                                                                                  \r"
     ]
    },
    {
     "name": "stdout",
     "output_type": "stream",
     "text": [
      "Epoch 386/400:\n",
      "Training Loss: 4136.1429\n",
      "Validation Loss: 3940.9494\n",
      "Validation Accuracy: 6.86%\n",
      "-------------------------\n"
     ]
    },
    {
     "name": "stderr",
     "output_type": "stream",
     "text": [
      "                                                                                                                  \r"
     ]
    },
    {
     "name": "stdout",
     "output_type": "stream",
     "text": [
      "Epoch 387/400:\n",
      "Training Loss: 4160.2607\n",
      "Validation Loss: 4019.8032\n",
      "Validation Accuracy: 6.47%\n",
      "-------------------------\n"
     ]
    },
    {
     "name": "stderr",
     "output_type": "stream",
     "text": [
      "                                                                                                                  \r"
     ]
    },
    {
     "name": "stdout",
     "output_type": "stream",
     "text": [
      "Epoch 388/400:\n",
      "Training Loss: 4178.9817\n",
      "Validation Loss: 3987.7537\n",
      "Validation Accuracy: 6.71%\n",
      "-------------------------\n"
     ]
    },
    {
     "name": "stderr",
     "output_type": "stream",
     "text": [
      "                                                                                                                  \r"
     ]
    },
    {
     "name": "stdout",
     "output_type": "stream",
     "text": [
      "Epoch 389/400:\n",
      "Training Loss: 4168.0911\n",
      "Validation Loss: 3910.0184\n",
      "Validation Accuracy: 6.79%\n",
      "-------------------------\n"
     ]
    },
    {
     "name": "stderr",
     "output_type": "stream",
     "text": [
      "                                                                                                                  \r"
     ]
    },
    {
     "name": "stdout",
     "output_type": "stream",
     "text": [
      "Epoch 390/400:\n",
      "Training Loss: 4125.0893\n",
      "Validation Loss: 3889.2234\n",
      "Validation Accuracy: 6.63%\n",
      "-------------------------\n"
     ]
    },
    {
     "name": "stderr",
     "output_type": "stream",
     "text": [
      "                                                                                                                  \r"
     ]
    },
    {
     "name": "stdout",
     "output_type": "stream",
     "text": [
      "Epoch 391/400:\n",
      "Training Loss: 4151.5974\n",
      "Validation Loss: 3948.1423\n",
      "Validation Accuracy: 6.79%\n",
      "-------------------------\n"
     ]
    },
    {
     "name": "stderr",
     "output_type": "stream",
     "text": [
      "                                                                                                                  \r"
     ]
    },
    {
     "name": "stdout",
     "output_type": "stream",
     "text": [
      "Epoch 392/400:\n",
      "Training Loss: 4122.6572\n",
      "Validation Loss: 4033.5891\n",
      "Validation Accuracy: 6.79%\n",
      "-------------------------\n"
     ]
    },
    {
     "name": "stderr",
     "output_type": "stream",
     "text": [
      "                                                                                                                  \r"
     ]
    },
    {
     "name": "stdout",
     "output_type": "stream",
     "text": [
      "Epoch 393/400:\n",
      "Training Loss: 4134.9435\n",
      "Validation Loss: 3914.9671\n",
      "Validation Accuracy: 6.55%\n",
      "-------------------------\n"
     ]
    },
    {
     "name": "stderr",
     "output_type": "stream",
     "text": [
      "                                                                                                                  \r"
     ]
    },
    {
     "name": "stdout",
     "output_type": "stream",
     "text": [
      "Epoch 394/400:\n",
      "Training Loss: 4139.8569\n",
      "Validation Loss: 4050.0196\n",
      "Validation Accuracy: 6.40%\n",
      "-------------------------\n"
     ]
    },
    {
     "name": "stderr",
     "output_type": "stream",
     "text": [
      "                                                                                                                  \r"
     ]
    },
    {
     "name": "stdout",
     "output_type": "stream",
     "text": [
      "Epoch 395/400:\n",
      "Training Loss: 4140.4683\n",
      "Validation Loss: 4072.2427\n",
      "Validation Accuracy: 6.47%\n",
      "-------------------------\n"
     ]
    },
    {
     "name": "stderr",
     "output_type": "stream",
     "text": [
      "                                                                                                                  \r"
     ]
    },
    {
     "name": "stdout",
     "output_type": "stream",
     "text": [
      "Epoch 396/400:\n",
      "Training Loss: 4193.1841\n",
      "Validation Loss: 4101.1645\n",
      "Validation Accuracy: 7.18%\n",
      "-------------------------\n"
     ]
    },
    {
     "name": "stderr",
     "output_type": "stream",
     "text": [
      "                                                                                                                  \r"
     ]
    },
    {
     "name": "stdout",
     "output_type": "stream",
     "text": [
      "Epoch 397/400:\n",
      "Training Loss: 4132.4444\n",
      "Validation Loss: 3971.1112\n",
      "Validation Accuracy: 7.25%\n",
      "-------------------------\n"
     ]
    },
    {
     "name": "stderr",
     "output_type": "stream",
     "text": [
      "                                                                                                                  \r"
     ]
    },
    {
     "name": "stdout",
     "output_type": "stream",
     "text": [
      "Epoch 398/400:\n",
      "Training Loss: 4133.4162\n",
      "Validation Loss: 3908.0389\n",
      "Validation Accuracy: 7.02%\n",
      "-------------------------\n"
     ]
    },
    {
     "name": "stderr",
     "output_type": "stream",
     "text": [
      "                                                                                                                  \r"
     ]
    },
    {
     "name": "stdout",
     "output_type": "stream",
     "text": [
      "Epoch 399/400:\n",
      "Training Loss: 4124.9607\n",
      "Validation Loss: 4008.4496\n",
      "Validation Accuracy: 6.63%\n",
      "-------------------------\n"
     ]
    },
    {
     "name": "stderr",
     "output_type": "stream",
     "text": [
      "                                                                                                                  \r"
     ]
    },
    {
     "name": "stdout",
     "output_type": "stream",
     "text": [
      "Epoch 400/400:\n",
      "Training Loss: 4135.4443\n",
      "Validation Loss: 3902.3792\n",
      "Validation Accuracy: 6.55%\n",
      "-------------------------\n"
     ]
    }
   ],
   "source": [
    "# 训练模型\n",
    "# 训练模型\n",
    "train_loss_history = []\n",
    "train_accuracy_history = []\n",
    "val_accuracy_history = []\n",
    "num_epochs = 400\n",
    "for epoch in range(num_epochs):\n",
    "    model.train()\n",
    "    train_loss = 0.0\n",
    "\n",
    "    progress_bar = tqdm(train_loader, desc=f\"Epoch {epoch+1}/{num_epochs}\", leave=False)\n",
    "\n",
    "    for data, targets in progress_bar:\n",
    "        optimizer.zero_grad()\n",
    "        outputs = model(data.unsqueeze(1))\n",
    "        loss = criterion(outputs, targets)\n",
    "        loss.backward()\n",
    "        optimizer.step()\n",
    "        train_loss += loss.item() * data.size(0)\n",
    "        predicted = torch.round(outputs)\n",
    "        total += targets.size(0)\n",
    "        correct += (predicted == targets).sum().item()\n",
    "        progress_bar.set_postfix({'Training Loss': loss.item(),'Training Accuracy': correct / total})\n",
    "\n",
    "    train_loss /= len(train_loader.dataset)\n",
    "    train_accuracy = correct / total\n",
    "    train_accuracy_history.append(train_accuracy)\n",
    "    # 验证模型\n",
    "    model.eval()\n",
    "    val_loss = 0.0\n",
    "    correct = 0\n",
    "    total = 0\n",
    "    with torch.no_grad():\n",
    "         for data, targets in val_loader:\n",
    "            outputs = model(data.unsqueeze(1))\n",
    "            loss = criterion(outputs, targets)\n",
    "            val_loss += loss.item() * data.size(0)\n",
    "\n",
    "            # 计算验证集的精度\n",
    "            predicted = torch.round(outputs)\n",
    "            total += targets.size(0)\n",
    "            correct += (predicted == targets).sum().item()\n",
    "\n",
    "    train_loss_history.append(train_loss)\n",
    "    train_accuracy_history.append(train_accuracy)\n",
    "    val_accuracy_history.append(val_accuracy)\n",
    "    val_loss /= len(val_loader.dataset)\n",
    "    val_accuracy = correct / total * 100\n",
    "\n",
    "    # 打印训练和验证结果\n",
    "    print(f\"Epoch {epoch+1}/{num_epochs}:\")\n",
    "    print(f\"Training Loss: {train_loss:.4f}\")\n",
    "    print(f\"Validation Loss: {val_loss:.4f}\")\n",
    "    print(f\"Validation Accuracy: {val_accuracy:.2f}%\")\n",
    "    print(\"-------------------------\")"
   ]
  },
  {
   "cell_type": "code",
   "execution_count": 26,
   "metadata": {},
   "outputs": [
    {
     "data": {
      "image/png": "[encoded data removed]",
      "text/plain": [
       "<Figure size 640x480 with 1 Axes>"
      ]
     },
     "metadata": {},
     "output_type": "display_data"
    },
    {
     "ename": "ValueError",
     "evalue": "x and y must have same first dimension, but have shapes (400,) and (800,)",
     "output_type": "error",
     "traceback": [
      "\u001b[0;31m---------------------------------------------------------------------------\u001b[0m",
      "\u001b[0;31mValueError\u001b[0m                                Traceback (most recent call last)",
      "Cell \u001b[0;32mIn[26], line 9\u001b[0m\n\u001b[1;32m      6\u001b[0m plt\u001b[39m.\u001b[39mshow()\n\u001b[1;32m      8\u001b[0m \u001b[39m# 绘制训练精度和验证精度图\u001b[39;00m\n\u001b[0;32m----> 9\u001b[0m plt\u001b[39m.\u001b[39;49mplot(\u001b[39mrange\u001b[39;49m(\u001b[39m1\u001b[39;49m, num_epochs\u001b[39m+\u001b[39;49m\u001b[39m1\u001b[39;49m), train_accuracy_history, label\u001b[39m=\u001b[39;49m\u001b[39m'\u001b[39;49m\u001b[39mTraining Accuracy\u001b[39;49m\u001b[39m'\u001b[39;49m)\n\u001b[1;32m     10\u001b[0m plt\u001b[39m.\u001b[39mxlabel(\u001b[39m'\u001b[39m\u001b[39mEpoch\u001b[39m\u001b[39m'\u001b[39m)\n\u001b[1;32m     11\u001b[0m plt\u001b[39m.\u001b[39mylabel(\u001b[39m'\u001b[39m\u001b[39mAccuracy\u001b[39m\u001b[39m'\u001b[39m)\n",
      "File \u001b[0;32m~/miniconda3/envs/zhang/lib/python3.9/site-packages/matplotlib/pyplot.py:2785\u001b[0m, in \u001b[0;36mplot\u001b[0;34m(scalex, scaley, data, *args, **kwargs)\u001b[0m\n\u001b[1;32m   2783\u001b[0m \u001b[39m@_copy_docstring_and_deprecators\u001b[39m(Axes\u001b[39m.\u001b[39mplot)\n\u001b[1;32m   2784\u001b[0m \u001b[39mdef\u001b[39;00m \u001b[39mplot\u001b[39m(\u001b[39m*\u001b[39margs, scalex\u001b[39m=\u001b[39m\u001b[39mTrue\u001b[39;00m, scaley\u001b[39m=\u001b[39m\u001b[39mTrue\u001b[39;00m, data\u001b[39m=\u001b[39m\u001b[39mNone\u001b[39;00m, \u001b[39m*\u001b[39m\u001b[39m*\u001b[39mkwargs):\n\u001b[0;32m-> 2785\u001b[0m     \u001b[39mreturn\u001b[39;00m gca()\u001b[39m.\u001b[39;49mplot(\n\u001b[1;32m   2786\u001b[0m         \u001b[39m*\u001b[39;49margs, scalex\u001b[39m=\u001b[39;49mscalex, scaley\u001b[39m=\u001b[39;49mscaley,\n\u001b[1;32m   2787\u001b[0m         \u001b[39m*\u001b[39;49m\u001b[39m*\u001b[39;49m({\u001b[39m\"\u001b[39;49m\u001b[39mdata\u001b[39;49m\u001b[39m\"\u001b[39;49m: data} \u001b[39mif\u001b[39;49;00m data \u001b[39mis\u001b[39;49;00m \u001b[39mnot\u001b[39;49;00m \u001b[39mNone\u001b[39;49;00m \u001b[39melse\u001b[39;49;00m {}), \u001b[39m*\u001b[39;49m\u001b[39m*\u001b[39;49mkwargs)\n",
      "File \u001b[0;32m~/miniconda3/envs/zhang/lib/python3.9/site-packages/matplotlib/axes/_axes.py:1688\u001b[0m, in \u001b[0;36mAxes.plot\u001b[0;34m(self, scalex, scaley, data, *args, **kwargs)\u001b[0m\n\u001b[1;32m   1445\u001b[0m \u001b[39m\u001b[39m\u001b[39m\"\"\"\u001b[39;00m\n\u001b[1;32m   1446\u001b[0m \u001b[39mPlot y versus x as lines and/or markers.\u001b[39;00m\n\u001b[1;32m   1447\u001b[0m \n\u001b[0;32m   (...)\u001b[0m\n\u001b[1;32m   1685\u001b[0m \u001b[39m(``'green'``) or hex strings (``'#008000'``).\u001b[39;00m\n\u001b[1;32m   1686\u001b[0m \u001b[39m\"\"\"\u001b[39;00m\n\u001b[1;32m   1687\u001b[0m kwargs \u001b[39m=\u001b[39m cbook\u001b[39m.\u001b[39mnormalize_kwargs(kwargs, mlines\u001b[39m.\u001b[39mLine2D)\n\u001b[0;32m-> 1688\u001b[0m lines \u001b[39m=\u001b[39m [\u001b[39m*\u001b[39m\u001b[39mself\u001b[39m\u001b[39m.\u001b[39m_get_lines(\u001b[39m*\u001b[39margs, data\u001b[39m=\u001b[39mdata, \u001b[39m*\u001b[39m\u001b[39m*\u001b[39mkwargs)]\n\u001b[1;32m   1689\u001b[0m \u001b[39mfor\u001b[39;00m line \u001b[39min\u001b[39;00m lines:\n\u001b[1;32m   1690\u001b[0m     \u001b[39mself\u001b[39m\u001b[39m.\u001b[39madd_line(line)\n",
      "File \u001b[0;32m~/miniconda3/envs/zhang/lib/python3.9/site-packages/matplotlib/axes/_base.py:311\u001b[0m, in \u001b[0;36m_process_plot_var_args.__call__\u001b[0;34m(self, data, *args, **kwargs)\u001b[0m\n\u001b[1;32m    309\u001b[0m     this \u001b[39m+\u001b[39m\u001b[39m=\u001b[39m args[\u001b[39m0\u001b[39m],\n\u001b[1;32m    310\u001b[0m     args \u001b[39m=\u001b[39m args[\u001b[39m1\u001b[39m:]\n\u001b[0;32m--> 311\u001b[0m \u001b[39myield from\u001b[39;00m \u001b[39mself\u001b[39;49m\u001b[39m.\u001b[39;49m_plot_args(\n\u001b[1;32m    312\u001b[0m     this, kwargs, ambiguous_fmt_datakey\u001b[39m=\u001b[39;49mambiguous_fmt_datakey)\n",
      "File \u001b[0;32m~/miniconda3/envs/zhang/lib/python3.9/site-packages/matplotlib/axes/_base.py:504\u001b[0m, in \u001b[0;36m_process_plot_var_args._plot_args\u001b[0;34m(self, tup, kwargs, return_kwargs, ambiguous_fmt_datakey)\u001b[0m\n\u001b[1;32m    501\u001b[0m     \u001b[39mself\u001b[39m\u001b[39m.\u001b[39maxes\u001b[39m.\u001b[39myaxis\u001b[39m.\u001b[39mupdate_units(y)\n\u001b[1;32m    503\u001b[0m \u001b[39mif\u001b[39;00m x\u001b[39m.\u001b[39mshape[\u001b[39m0\u001b[39m] \u001b[39m!=\u001b[39m y\u001b[39m.\u001b[39mshape[\u001b[39m0\u001b[39m]:\n\u001b[0;32m--> 504\u001b[0m     \u001b[39mraise\u001b[39;00m \u001b[39mValueError\u001b[39;00m(\u001b[39mf\u001b[39m\u001b[39m\"\u001b[39m\u001b[39mx and y must have same first dimension, but \u001b[39m\u001b[39m\"\u001b[39m\n\u001b[1;32m    505\u001b[0m                      \u001b[39mf\u001b[39m\u001b[39m\"\u001b[39m\u001b[39mhave shapes \u001b[39m\u001b[39m{\u001b[39;00mx\u001b[39m.\u001b[39mshape\u001b[39m}\u001b[39;00m\u001b[39m and \u001b[39m\u001b[39m{\u001b[39;00my\u001b[39m.\u001b[39mshape\u001b[39m}\u001b[39;00m\u001b[39m\"\u001b[39m)\n\u001b[1;32m    506\u001b[0m \u001b[39mif\u001b[39;00m x\u001b[39m.\u001b[39mndim \u001b[39m>\u001b[39m \u001b[39m2\u001b[39m \u001b[39mor\u001b[39;00m y\u001b[39m.\u001b[39mndim \u001b[39m>\u001b[39m \u001b[39m2\u001b[39m:\n\u001b[1;32m    507\u001b[0m     \u001b[39mraise\u001b[39;00m \u001b[39mValueError\u001b[39;00m(\u001b[39mf\u001b[39m\u001b[39m\"\u001b[39m\u001b[39mx and y can be no greater than 2D, but have \u001b[39m\u001b[39m\"\u001b[39m\n\u001b[1;32m    508\u001b[0m                      \u001b[39mf\u001b[39m\u001b[39m\"\u001b[39m\u001b[39mshapes \u001b[39m\u001b[39m{\u001b[39;00mx\u001b[39m.\u001b[39mshape\u001b[39m}\u001b[39;00m\u001b[39m and \u001b[39m\u001b[39m{\u001b[39;00my\u001b[39m.\u001b[39mshape\u001b[39m}\u001b[39;00m\u001b[39m\"\u001b[39m)\n",
      "\u001b[0;31mValueError\u001b[0m: x and y must have same first dimension, but have shapes (400,) and (800,)"
     ]
    },
    {
     "data": {
      "image/png": "[encoded data removed]",
      "text/plain": [
       "<Figure size 640x480 with 1 Axes>"
      ]
     },
     "metadata": {},
     "output_type": "display_data"
    }
   ],
   "source": [
    "\n",
    "# 绘制训练损失图\n",
    "plt.plot(range(1, num_epochs+1), train_loss_history)\n",
    "plt.xlabel('Epoch')\n",
    "plt.ylabel('Training Loss')\n",
    "plt.title('Training Loss')\n",
    "plt.show()\n",
    "\n",
    "# 绘制训练精度和验证精度图\n",
    "plt.plot(range(1, num_epochs+1), train_accuracy_history, label='Training Accuracy')\n",
    "plt.xlabel('Epoch')\n",
    "plt.ylabel('Accuracy')\n",
    "plt.title('Training and Validation Accuracy')\n",
    "plt.show()\n",
    "plt.plot(range(1, num_epochs+1), val_accuracy_history, label='Training Accuracy')\n",
    "plt.xlabel('Epoch')\n",
    "plt.ylabel('Accuracy')\n",
    "plt.title('Training and Validation Accuracy')\n",
    "plt.show()"
   ]
  }
 ],
 "metadata": {
  "kernelspec": {
   "display_name": "zhang",
   "language": "python",
   "name": "python3"
  },
  "language_info": {
   "codemirror_mode": {
    "name": "ipython",
    "version": 3
   },
   "file_extension": ".py",
   "mimetype": "text/x-python",
   "name": "python",
   "nbconvert_exporter": "python",
   "pygments_lexer": "ipython3",
   "version": "3.9.16"
  },
  "orig_nbformat": 4
 },
 "nbformat": 4,
 "nbformat_minor": 2
}
